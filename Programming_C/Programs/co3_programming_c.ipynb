{
 "cells": [
  {
   "cell_type": "code",
   "execution_count": 1,
   "id": "50612603-8321-4702-894e-3c348faa0bb6",
   "metadata": {},
   "outputs": [
    {
     "name": "stderr",
     "output_type": "stream",
     "text": [
      "<frozen importlib._bootstrap>:219: RuntimeWarning: scipy._lib.messagestream.MessageStream size changed, may indicate binary incompatibility. Expected 56 from C header, got 64 from PyObject\n",
      "/tmp/ipykernel_11334/3458627689.py:13: DeprecationWarning: The variable qiskit.aqua.aqua_globals is deprecated. It was moved/refactored to qiskit.utils.algorithm_globals (pip install qiskit-terra). For more information see <https://github.com/Qiskit/qiskit-aqua/blob/main/README.md#migration-guide>\n",
      "  aqua_globals.random_seed = seed\n"
     ]
    }
   ],
   "source": [
    "import pandas as pd\n",
    "import matplotlib.pyplot as plt\n",
    "import numpy as np\n",
    "from sklearn.preprocessing import MinMaxScaler\n",
    "\n",
    "from qiskit import BasicAer\n",
    "from qiskit.circuit.library import ZZFeatureMap, PauliFeatureMap\n",
    "from qiskit.aqua import QuantumInstance, aqua_globals\n",
    "from qiskit.aqua.algorithms import QSVM\n",
    "from qiskit.aqua.utils import split_dataset_to_data_and_labels, map_label_to_class_name\n",
    "\n",
    "seed = 10599\n",
    "aqua_globals.random_seed = seed\n",
    "import warnings\n",
    "warnings.filterwarnings('ignore')"
   ]
  },
  {
   "cell_type": "code",
   "execution_count": 2,
   "id": "6366b3a8-d3d1-4211-9e0f-271ffd1b5f21",
   "metadata": {},
   "outputs": [],
   "source": [
    "from qiskit.aqua.components.optimizers import COBYLA\n",
    "from qiskit.aqua.components.feature_maps import RawFeatureVector\n",
    "from qiskit.circuit.library import TwoLocal\n",
    "import functools"
   ]
  },
  {
   "cell_type": "code",
   "execution_count": 3,
   "id": "b87713e5-3b6c-41a9-859e-27c7419a908c",
   "metadata": {},
   "outputs": [
    {
     "data": {
      "text/html": [
       "<div>\n",
       "<style scoped>\n",
       "    .dataframe tbody tr th:only-of-type {\n",
       "        vertical-align: middle;\n",
       "    }\n",
       "\n",
       "    .dataframe tbody tr th {\n",
       "        vertical-align: top;\n",
       "    }\n",
       "\n",
       "    .dataframe thead th {\n",
       "        text-align: right;\n",
       "    }\n",
       "</style>\n",
       "<table border=\"1\" class=\"dataframe\">\n",
       "  <thead>\n",
       "    <tr style=\"text-align: right;\">\n",
       "      <th></th>\n",
       "      <th>S.NO</th>\n",
       "      <th>REGISTER NO.</th>\n",
       "      <th>NAMES</th>\n",
       "      <th>MS 1 40%</th>\n",
       "      <th>MS 2 40%</th>\n",
       "      <th>Attendance %</th>\n",
       "      <th>SEM RESULT 22%</th>\n",
       "      <th>TOTAL 142%</th>\n",
       "      <th>OBTAINED FOR 100</th>\n",
       "      <th>Threshold 60%</th>\n",
       "    </tr>\n",
       "  </thead>\n",
       "  <tbody>\n",
       "    <tr>\n",
       "      <th>0</th>\n",
       "      <td>1</td>\n",
       "      <td>15 51 001</td>\n",
       "      <td>AARTHI.P.</td>\n",
       "      <td>27.2</td>\n",
       "      <td>36.8</td>\n",
       "      <td>93</td>\n",
       "      <td>19.8</td>\n",
       "      <td>103.8</td>\n",
       "      <td>73.098592</td>\n",
       "      <td>Y</td>\n",
       "    </tr>\n",
       "    <tr>\n",
       "      <th>1</th>\n",
       "      <td>2</td>\n",
       "      <td>15 51 002</td>\n",
       "      <td>ABDUL KHADI.K.</td>\n",
       "      <td>14.4</td>\n",
       "      <td>7.2</td>\n",
       "      <td>93</td>\n",
       "      <td>5.5</td>\n",
       "      <td>47.1</td>\n",
       "      <td>33.169014</td>\n",
       "      <td>N</td>\n",
       "    </tr>\n",
       "    <tr>\n",
       "      <th>2</th>\n",
       "      <td>3</td>\n",
       "      <td>15 51 003</td>\n",
       "      <td>ABINAYA.N.</td>\n",
       "      <td>31.2</td>\n",
       "      <td>32.0</td>\n",
       "      <td>97</td>\n",
       "      <td>19.8</td>\n",
       "      <td>103.0</td>\n",
       "      <td>72.535211</td>\n",
       "      <td>Y</td>\n",
       "    </tr>\n",
       "    <tr>\n",
       "      <th>3</th>\n",
       "      <td>4</td>\n",
       "      <td>15 51 004</td>\n",
       "      <td>AKALYA.M.</td>\n",
       "      <td>20.0</td>\n",
       "      <td>8.8</td>\n",
       "      <td>93</td>\n",
       "      <td>13.2</td>\n",
       "      <td>62.0</td>\n",
       "      <td>43.661972</td>\n",
       "      <td>N</td>\n",
       "    </tr>\n",
       "    <tr>\n",
       "      <th>4</th>\n",
       "      <td>5</td>\n",
       "      <td>15 51 005</td>\n",
       "      <td>ARCHANADEVI@KAMATCHI R.</td>\n",
       "      <td>28.8</td>\n",
       "      <td>30.4</td>\n",
       "      <td>93</td>\n",
       "      <td>17.6</td>\n",
       "      <td>96.8</td>\n",
       "      <td>68.169014</td>\n",
       "      <td>Y</td>\n",
       "    </tr>\n",
       "  </tbody>\n",
       "</table>\n",
       "</div>"
      ],
      "text/plain": [
       "   S.NO REGISTER NO.                    NAMES  MS 1 40%  MS 2 40%  \\\n",
       "0     1    15 51 001                AARTHI.P.      27.2      36.8   \n",
       "1     2    15 51 002           ABDUL KHADI.K.      14.4       7.2   \n",
       "2     3    15 51 003               ABINAYA.N.      31.2      32.0   \n",
       "3     4    15 51 004                AKALYA.M.      20.0       8.8   \n",
       "4     5    15 51 005  ARCHANADEVI@KAMATCHI R.      28.8      30.4   \n",
       "\n",
       "   Attendance %  SEM RESULT 22%  TOTAL 142%  OBTAINED FOR 100 Threshold 60%  \n",
       "0            93            19.8       103.8         73.098592             Y  \n",
       "1            93             5.5        47.1         33.169014             N  \n",
       "2            97            19.8       103.0         72.535211             Y  \n",
       "3            93            13.2        62.0         43.661972             N  \n",
       "4            93            17.6        96.8         68.169014             Y  "
      ]
     },
     "execution_count": 3,
     "metadata": {},
     "output_type": "execute_result"
    }
   ],
   "source": [
    "c_dataset = pd.read_excel('co3_programming_c.xlsx', engine='openpyxl')\n",
    "\n",
    "c_dataset.head()"
   ]
  },
  {
   "cell_type": "code",
   "execution_count": 4,
   "id": "b0e1101a-dbc4-478a-83c3-12a0a702d0bb",
   "metadata": {},
   "outputs": [
    {
     "data": {
      "text/html": [
       "<div>\n",
       "<style scoped>\n",
       "    .dataframe tbody tr th:only-of-type {\n",
       "        vertical-align: middle;\n",
       "    }\n",
       "\n",
       "    .dataframe tbody tr th {\n",
       "        vertical-align: top;\n",
       "    }\n",
       "\n",
       "    .dataframe thead th {\n",
       "        text-align: right;\n",
       "    }\n",
       "</style>\n",
       "<table border=\"1\" class=\"dataframe\">\n",
       "  <thead>\n",
       "    <tr style=\"text-align: right;\">\n",
       "      <th></th>\n",
       "      <th>MS 1 40%</th>\n",
       "      <th>MS 2 40%</th>\n",
       "      <th>Attendance %</th>\n",
       "      <th>SEM RESULT 22%</th>\n",
       "      <th>TOTAL 142%</th>\n",
       "      <th>OBTAINED FOR 100</th>\n",
       "      <th>Threshold 60%</th>\n",
       "    </tr>\n",
       "  </thead>\n",
       "  <tbody>\n",
       "    <tr>\n",
       "      <th>0</th>\n",
       "      <td>27.2</td>\n",
       "      <td>36.8</td>\n",
       "      <td>93</td>\n",
       "      <td>19.8</td>\n",
       "      <td>103.8</td>\n",
       "      <td>73.098592</td>\n",
       "      <td>1</td>\n",
       "    </tr>\n",
       "    <tr>\n",
       "      <th>1</th>\n",
       "      <td>14.4</td>\n",
       "      <td>7.2</td>\n",
       "      <td>93</td>\n",
       "      <td>5.5</td>\n",
       "      <td>47.1</td>\n",
       "      <td>33.169014</td>\n",
       "      <td>0</td>\n",
       "    </tr>\n",
       "    <tr>\n",
       "      <th>2</th>\n",
       "      <td>31.2</td>\n",
       "      <td>32.0</td>\n",
       "      <td>97</td>\n",
       "      <td>19.8</td>\n",
       "      <td>103.0</td>\n",
       "      <td>72.535211</td>\n",
       "      <td>1</td>\n",
       "    </tr>\n",
       "    <tr>\n",
       "      <th>3</th>\n",
       "      <td>20.0</td>\n",
       "      <td>8.8</td>\n",
       "      <td>93</td>\n",
       "      <td>13.2</td>\n",
       "      <td>62.0</td>\n",
       "      <td>43.661972</td>\n",
       "      <td>0</td>\n",
       "    </tr>\n",
       "    <tr>\n",
       "      <th>4</th>\n",
       "      <td>28.8</td>\n",
       "      <td>30.4</td>\n",
       "      <td>93</td>\n",
       "      <td>17.6</td>\n",
       "      <td>96.8</td>\n",
       "      <td>68.169014</td>\n",
       "      <td>1</td>\n",
       "    </tr>\n",
       "  </tbody>\n",
       "</table>\n",
       "</div>"
      ],
      "text/plain": [
       "   MS 1 40%  MS 2 40%  Attendance %  SEM RESULT 22%  TOTAL 142%  \\\n",
       "0      27.2      36.8            93            19.8       103.8   \n",
       "1      14.4       7.2            93             5.5        47.1   \n",
       "2      31.2      32.0            97            19.8       103.0   \n",
       "3      20.0       8.8            93            13.2        62.0   \n",
       "4      28.8      30.4            93            17.6        96.8   \n",
       "\n",
       "   OBTAINED FOR 100  Threshold 60%  \n",
       "0         73.098592              1  \n",
       "1         33.169014              0  \n",
       "2         72.535211              1  \n",
       "3         43.661972              0  \n",
       "4         68.169014              1  "
      ]
     },
     "execution_count": 4,
     "metadata": {},
     "output_type": "execute_result"
    }
   ],
   "source": [
    "df = c_dataset.copy()\n",
    "df['Threshold 60%'].replace(to_replace=['Y', 'N'], value=[1, 0], inplace=True)\n",
    "df.drop(['S.NO', 'REGISTER NO.','NAMES'], axis=1,inplace = True)\n",
    "df.head()"
   ]
  },
  {
   "cell_type": "code",
   "execution_count": 5,
   "id": "1fc6173b-1396-4f9f-92c5-d366f7b74839",
   "metadata": {},
   "outputs": [
    {
     "data": {
      "text/plain": [
       "<AxesSubplot:>"
      ]
     },
     "execution_count": 5,
     "metadata": {},
     "output_type": "execute_result"
    },
    {
     "data": {
      "image/png": "[encoded data removed]",
      "text/plain": [
       "<Figure size 432x288 with 2 Axes>"
      ]
     },
     "metadata": {
      "needs_background": "light"
     },
     "output_type": "display_data"
    }
   ],
   "source": [
    "import seaborn as sns\n",
    "corr = df.corr()\n",
    "sns.heatmap(corr, annot=True)"
   ]
  },
  {
   "cell_type": "code",
   "execution_count": 15,
   "id": "7b1a0383-3393-4772-bcd6-12a547a1fa16",
   "metadata": {},
   "outputs": [
    {
     "data": {
      "text/plain": [
       "<AxesSubplot:xlabel='Threshold 60%', ylabel='count'>"
      ]
     },
     "execution_count": 15,
     "metadata": {},
     "output_type": "execute_result"
    },
    {
     "data": {
      "image/png": "[encoded data removed]",
      "text/plain": [
       "<Figure size 432x288 with 1 Axes>"
      ]
     },
     "metadata": {
      "needs_background": "light"
     },
     "output_type": "display_data"
    }
   ],
   "source": [
    "sns.countplot(df['Threshold 60%'])"
   ]
  },
  {
   "cell_type": "code",
   "execution_count": 6,
   "id": "6178fdf2-125a-4376-b0d6-82d3db8a08a9",
   "metadata": {},
   "outputs": [
    {
     "data": {
      "text/plain": [
       "Index(['MS 1 40%', 'MS 2 40%', 'SEM RESULT 22%', 'TOTAL 142%',\n",
       "       'OBTAINED FOR 100', 'Threshold 60%'],\n",
       "      dtype='object')"
      ]
     },
     "execution_count": 6,
     "metadata": {},
     "output_type": "execute_result"
    }
   ],
   "source": [
    "df.drop(['Attendance %'], axis = 1, inplace = True)\n",
    "df.columns"
   ]
  },
  {
   "cell_type": "code",
   "execution_count": 7,
   "id": "8c865d05-f399-4b6d-b3cb-04d28c6f5396",
   "metadata": {},
   "outputs": [],
   "source": [
    "vals = df[df.columns[:-1]].values"
   ]
  },
  {
   "cell_type": "markdown",
   "id": "5a749cab-d77b-4a79-ab28-49329133acd2",
   "metadata": {},
   "source": [
    "# QSVM"
   ]
  },
  {
   "cell_type": "code",
   "execution_count": 8,
   "id": "28a6038a-d51a-4262-bc6b-653278751adb",
   "metadata": {},
   "outputs": [],
   "source": [
    "def custom_data_map_func(x):\n",
    "    \"\"\"Define a function map from R^n to R.\n",
    "    \n",
    "    Args:\n",
    "        x (np.ndarray): data\n",
    "    Returns:\n",
    "        double: the mapped value\n",
    "    \"\"\"\n",
    "    coeff = x[0] if len(x) == 1 else functools.reduce(lambda m, n: m * n, np.pi - x)\n",
    "    return coeff"
   ]
  },
  {
   "cell_type": "code",
   "execution_count": 9,
   "id": "efc6d664-cf0c-45b3-8b85-3329c7f65584",
   "metadata": {},
   "outputs": [],
   "source": [
    "train_input = vals[:25]\n",
    "test_input = vals[25:]\n",
    "\n",
    "training_data = {1:[],0:[]} # 1 == 'A' and 0 == 'B'\n",
    "for i in range(len(train_input)):\n",
    "    if df['Threshold 60%'][i] == 1:\n",
    "        training_data[1].append(train_input[i].tolist())\n",
    "    else:\n",
    "        training_data[0].append(train_input[i].tolist())\n",
    "        \n",
    "testing_data = {1:[],0:[]} # 1 == 'A' and 0 == 'B'\n",
    "for i in range(len(test_input)):\n",
    "    if df['Threshold 60%'][i] == 1:\n",
    "        testing_data[1].append(test_input[i].tolist())\n",
    "    else:\n",
    "        testing_data[0].append(test_input[i].tolist())"
   ]
  },
  {
   "cell_type": "code",
   "execution_count": 10,
   "id": "a935092a-0edd-40a3-9258-b44c5698d982",
   "metadata": {},
   "outputs": [],
   "source": [
    "def qsvm_testing_accuracy(training_data, testing_data, feature_dim, reps, entanglement):\n",
    "    feature_map = ZZFeatureMap(feature_dimension=feature_dim, reps=reps, entanglement=entanglement,  data_map_func=custom_data_map_func)\n",
    "    \n",
    "    qsvm = QSVM(feature_map, training_data, testing_data)\n",
    "\n",
    "    backend = BasicAer.get_backend('qasm_simulator')\n",
    "    quantum_instance = QuantumInstance(backend, shots=1024, seed_simulator=seed, seed_transpiler=seed)\n",
    "    result = qsvm.run(quantum_instance)\n",
    "    print('Testing Accuracy for reps={} and entanglement={}: '.format(reps, entanglement), result['testing_accuracy'])\n",
    "    return"
   ]
  },
  {
   "cell_type": "code",
   "execution_count": 11,
   "id": "6cbf2a2a-0aaa-43fe-b521-d55ceffc6a45",
   "metadata": {},
   "outputs": [
    {
     "name": "stdout",
     "output_type": "stream",
     "text": [
      "Testing Accuracy for reps=1 and entanglement=linear:  0.375\n",
      "Testing Accuracy for reps=1 and entanglement=circular:  0.5625\n",
      "Testing Accuracy for reps=1 and entanglement=full:  0.375\n",
      "Testing Accuracy for reps=2 and entanglement=linear:  0.5\n",
      "Testing Accuracy for reps=2 and entanglement=circular:  0.4375\n",
      "Testing Accuracy for reps=2 and entanglement=full:  0.5\n",
      "Testing Accuracy for reps=3 and entanglement=linear:  0.4375\n",
      "Testing Accuracy for reps=3 and entanglement=circular:  0.5625\n",
      "Testing Accuracy for reps=3 and entanglement=full:  0.5625\n"
     ]
    }
   ],
   "source": [
    "lst = ['linear', 'circular', 'full']\n",
    "\n",
    "feature_dim = 5\n",
    "\n",
    "for i in range(len(lst)):\n",
    "    for j in lst:\n",
    "        qsvm_testing_accuracy(training_data, testing_data, feature_dim, i+1, j)\n"
   ]
  },
  {
   "cell_type": "code",
   "execution_count": 12,
   "id": "601718a1-7475-425a-adea-2578885715b7",
   "metadata": {},
   "outputs": [
    {
     "data": {
      "text/plain": [
       "0.5625"
      ]
     },
     "execution_count": 12,
     "metadata": {},
     "output_type": "execute_result"
    }
   ],
   "source": [
    "reps = 1\n",
    "entanglement = 'circular'\n",
    "feature_map = ZZFeatureMap(feature_dimension=feature_dim, reps=reps, entanglement=entanglement,  data_map_func=custom_data_map_func)\n",
    "    \n",
    "final_qsvm = QSVM(feature_map, training_data, testing_data)\n",
    "\n",
    "backend = BasicAer.get_backend('qasm_simulator')\n",
    "quantum_instance = QuantumInstance(backend, shots=1024, seed_simulator=seed, seed_transpiler=seed)\n",
    "result = final_qsvm.run(quantum_instance)\n",
    "result['testing_accuracy']"
   ]
  },
  {
   "cell_type": "markdown",
   "id": "1a85e09a-89ee-464e-94f3-d30568922cda",
   "metadata": {},
   "source": [
    "# VQC"
   ]
  },
  {
   "cell_type": "code",
   "execution_count": 13,
   "id": "46ea35bc-7b44-4b29-bc55-ed66c74f3a15",
   "metadata": {},
   "outputs": [],
   "source": [
    "from qiskit.aqua.algorithms import VQC"
   ]
  },
  {
   "cell_type": "code",
   "execution_count": 14,
   "id": "17ea6598-256f-45ca-9115-e3662b8700d2",
   "metadata": {},
   "outputs": [
    {
     "name": "stdout",
     "output_type": "stream",
     "text": [
      "Testing accuracy: 0.44\n",
      "{'num_optimizer_evals': 100, 'min_val': 0.500760434792666, 'opt_params': array([ 2.3584641 ,  2.81501819, -0.33214529, -1.33426082,  1.44308402,\n",
      "       -0.94444461,  0.53595904,  1.58849545, -0.22944131, -1.56027935,\n",
      "        1.90082587,  0.08705213,  0.28133635,  2.45924319,  1.02545844,\n",
      "        1.58036324, -0.62831793, -1.96244752,  0.59203666, -0.7532965 ,\n",
      "        1.45483606, -0.00298965,  1.28802708,  0.84040799,  1.1323018 ,\n",
      "       -0.26078565, -0.42128601, -0.24130173,  1.10601077,  0.62549176,\n",
      "        1.35663124,  0.33156468, -1.16239053, -1.61982797,  0.29444937,\n",
      "        1.23498576, -1.22518451,  0.22687975,  1.49846311, -0.15345827]), 'eval_time': 76.41306114196777, 'eval_count': 100, 'training_loss': 0.500760434792666, 'testing_accuracy': 0.4375, 'test_success_ratio': 0.4375, 'testing_loss': 0.8034402044579049}\n"
     ]
    }
   ],
   "source": [
    "feature_dim = 5\n",
    "\n",
    "feature_map = ZZFeatureMap(feature_dimension=feature_dim, reps=2, entanglement='linear')\n",
    "#feature_map = PauliFeatureMap(feature_dimension=feature_dim, reps=2, paulis=['ZZ'])\n",
    "#feature_map = RawFeatureVector(feature_dimension=feature_dim)\n",
    "\n",
    "vqc = VQC(COBYLA(maxiter=100),\n",
    "          feature_map,\n",
    "          TwoLocal(feature_map.num_qubits, ['ry', 'rz'], 'cz', reps=3),\n",
    "          training_dataset = training_data,\n",
    "          test_dataset = testing_data)\n",
    "\n",
    "result = vqc.run(QuantumInstance(BasicAer.get_backend('statevector_simulator'),\n",
    "                                 shots=1024, seed_simulator=seed, seed_transpiler=seed))\n",
    "\n",
    "print('Testing accuracy: {:0.2f}'.format(result['testing_accuracy']))\n",
    "print(result)"
   ]
  },
  {
   "cell_type": "markdown",
   "id": "5900b23a-c585-43ee-899b-b83cc990ca11",
   "metadata": {},
   "source": [
    "Both QSVM and VQC performed poorly as the dataset had many students who didn't attain this CO."
   ]
  },
  {
   "cell_type": "code",
   "execution_count": null,
   "id": "41c7d37a-d3e2-40bd-b1fa-42f198260aa1",
   "metadata": {},
   "outputs": [],
   "source": []
  }
 ],
 "metadata": {
  "kernelspec": {
   "display_name": "Qiskit v0.35.0 (ipykernel)",
   "language": "python",
   "name": "python3"
  },
  "language_info": {
   "codemirror_mode": {
    "name": "ipython",
    "version": 3
   },
   "file_extension": ".py",
   "mimetype": "text/x-python",
   "name": "python",
   "nbconvert_exporter": "python",
   "pygments_lexer": "ipython3",
   "version": "3.8.13"
  },
  "widgets": {
   "application/vnd.jupyter.widget-state+json": {
    "state": {},
    "version_major": 2,
    "version_minor": 0
   }
  }
 },
 "nbformat": 4,
 "nbformat_minor": 5
}
