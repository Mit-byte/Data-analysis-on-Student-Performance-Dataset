{
 "cells": [
  {
   "cell_type": "code",
   "execution_count": 1,
   "id": "5680c39f-84f6-48b3-b446-3d81ba9a494a",
   "metadata": {},
   "outputs": [
    {
     "name": "stderr",
     "output_type": "stream",
     "text": [
      "<frozen importlib._bootstrap>:219: RuntimeWarning: scipy._lib.messagestream.MessageStream size changed, may indicate binary incompatibility. Expected 56 from C header, got 64 from PyObject\n",
      "/tmp/ipykernel_4587/3458627689.py:13: DeprecationWarning: The variable qiskit.aqua.aqua_globals is deprecated. It was moved/refactored to qiskit.utils.algorithm_globals (pip install qiskit-terra). For more information see <https://github.com/Qiskit/qiskit-aqua/blob/main/README.md#migration-guide>\n",
      "  aqua_globals.random_seed = seed\n"
     ]
    }
   ],
   "source": [
    "import pandas as pd\n",
    "import matplotlib.pyplot as plt\n",
    "import numpy as np\n",
    "from sklearn.preprocessing import MinMaxScaler\n",
    "\n",
    "from qiskit import BasicAer\n",
    "from qiskit.circuit.library import ZZFeatureMap, PauliFeatureMap\n",
    "from qiskit.aqua import QuantumInstance, aqua_globals\n",
    "from qiskit.aqua.algorithms import QSVM\n",
    "from qiskit.aqua.utils import split_dataset_to_data_and_labels, map_label_to_class_name\n",
    "\n",
    "seed = 10599\n",
    "aqua_globals.random_seed = seed\n",
    "import warnings\n",
    "warnings.filterwarnings('ignore')"
   ]
  },
  {
   "cell_type": "code",
   "execution_count": 2,
   "id": "182300e1-cf70-4ac3-92e0-91cdd05e19f8",
   "metadata": {},
   "outputs": [],
   "source": [
    "from qiskit.aqua.components.optimizers import COBYLA\n",
    "from qiskit.aqua.components.feature_maps import RawFeatureVector\n",
    "from qiskit.circuit.library import TwoLocal\n",
    "import functools"
   ]
  },
  {
   "cell_type": "code",
   "execution_count": 3,
   "id": "02bb0061-fff7-4208-95bd-ca869021c400",
   "metadata": {},
   "outputs": [
    {
     "data": {
      "text/html": [
       "<div>\n",
       "<style scoped>\n",
       "    .dataframe tbody tr th:only-of-type {\n",
       "        vertical-align: middle;\n",
       "    }\n",
       "\n",
       "    .dataframe tbody tr th {\n",
       "        vertical-align: top;\n",
       "    }\n",
       "\n",
       "    .dataframe thead th {\n",
       "        text-align: right;\n",
       "    }\n",
       "</style>\n",
       "<table border=\"1\" class=\"dataframe\">\n",
       "  <thead>\n",
       "    <tr style=\"text-align: right;\">\n",
       "      <th></th>\n",
       "      <th>S.NO</th>\n",
       "      <th>REGISTER NO.</th>\n",
       "      <th>NAMES</th>\n",
       "      <th>MS 1 40%</th>\n",
       "      <th>MS 2 20%</th>\n",
       "      <th>MS 3 20%</th>\n",
       "      <th>ASSIGNMENT 40%</th>\n",
       "      <th>SEM RESULT 44%</th>\n",
       "      <th>TOTAL 164%</th>\n",
       "      <th>OBTAINED FOR 100</th>\n",
       "      <th>Y OR N</th>\n",
       "      <th>Threshold 60%</th>\n",
       "    </tr>\n",
       "  </thead>\n",
       "  <tbody>\n",
       "    <tr>\n",
       "      <th>0</th>\n",
       "      <td>1</td>\n",
       "      <td>15 51 001</td>\n",
       "      <td>AARTHI.P.</td>\n",
       "      <td>27.2</td>\n",
       "      <td>18.4</td>\n",
       "      <td>0</td>\n",
       "      <td>40</td>\n",
       "      <td>39.6</td>\n",
       "      <td>125.2</td>\n",
       "      <td>76.341463</td>\n",
       "      <td>Y</td>\n",
       "      <td>Y</td>\n",
       "    </tr>\n",
       "    <tr>\n",
       "      <th>1</th>\n",
       "      <td>2</td>\n",
       "      <td>15 51 002</td>\n",
       "      <td>ABDUL KHADI.K.</td>\n",
       "      <td>14.4</td>\n",
       "      <td>3.6</td>\n",
       "      <td>0</td>\n",
       "      <td>40</td>\n",
       "      <td>11.0</td>\n",
       "      <td>69.0</td>\n",
       "      <td>42.073171</td>\n",
       "      <td>Y</td>\n",
       "      <td>N</td>\n",
       "    </tr>\n",
       "    <tr>\n",
       "      <th>2</th>\n",
       "      <td>3</td>\n",
       "      <td>15 51 003</td>\n",
       "      <td>ABINAYA.N.</td>\n",
       "      <td>31.2</td>\n",
       "      <td>16.0</td>\n",
       "      <td>0</td>\n",
       "      <td>40</td>\n",
       "      <td>39.6</td>\n",
       "      <td>126.8</td>\n",
       "      <td>77.317073</td>\n",
       "      <td>Y</td>\n",
       "      <td>Y</td>\n",
       "    </tr>\n",
       "    <tr>\n",
       "      <th>3</th>\n",
       "      <td>4</td>\n",
       "      <td>15 51 004</td>\n",
       "      <td>AKALYA.M.</td>\n",
       "      <td>20.0</td>\n",
       "      <td>4.4</td>\n",
       "      <td>0</td>\n",
       "      <td>40</td>\n",
       "      <td>26.4</td>\n",
       "      <td>90.8</td>\n",
       "      <td>55.365854</td>\n",
       "      <td>N</td>\n",
       "      <td>N</td>\n",
       "    </tr>\n",
       "    <tr>\n",
       "      <th>4</th>\n",
       "      <td>5</td>\n",
       "      <td>15 51 005</td>\n",
       "      <td>ARCHANADEVI@KAMATCHI R.</td>\n",
       "      <td>28.8</td>\n",
       "      <td>15.2</td>\n",
       "      <td>0</td>\n",
       "      <td>40</td>\n",
       "      <td>35.2</td>\n",
       "      <td>119.2</td>\n",
       "      <td>72.682927</td>\n",
       "      <td>Y</td>\n",
       "      <td>Y</td>\n",
       "    </tr>\n",
       "  </tbody>\n",
       "</table>\n",
       "</div>"
      ],
      "text/plain": [
       "   S.NO REGISTER NO.                    NAMES  MS 1 40%  MS 2 20%  MS 3 20%  \\\n",
       "0     1    15 51 001                AARTHI.P.      27.2      18.4         0   \n",
       "1     2    15 51 002           ABDUL KHADI.K.      14.4       3.6         0   \n",
       "2     3    15 51 003               ABINAYA.N.      31.2      16.0         0   \n",
       "3     4    15 51 004                AKALYA.M.      20.0       4.4         0   \n",
       "4     5    15 51 005  ARCHANADEVI@KAMATCHI R.      28.8      15.2         0   \n",
       "\n",
       "   ASSIGNMENT 40%  SEM RESULT 44%  TOTAL 164%  OBTAINED FOR 100 Y OR N  \\\n",
       "0              40            39.6       125.2         76.341463      Y   \n",
       "1              40            11.0        69.0         42.073171      Y   \n",
       "2              40            39.6       126.8         77.317073      Y   \n",
       "3              40            26.4        90.8         55.365854      N   \n",
       "4              40            35.2       119.2         72.682927      Y   \n",
       "\n",
       "  Threshold 60%  \n",
       "0             Y  \n",
       "1             N  \n",
       "2             Y  \n",
       "3             N  \n",
       "4             Y  "
      ]
     },
     "execution_count": 3,
     "metadata": {},
     "output_type": "execute_result"
    }
   ],
   "source": [
    "c_dataset = pd.read_excel('co2_attainment_c_theory.xlsx', engine='openpyxl')\n",
    "\n",
    "c_dataset.head()"
   ]
  },
  {
   "cell_type": "code",
   "execution_count": 15,
   "id": "400b9598-ae28-46fa-b0b5-1953b2bce0b6",
   "metadata": {},
   "outputs": [
    {
     "data": {
      "text/html": [
       "<div>\n",
       "<style scoped>\n",
       "    .dataframe tbody tr th:only-of-type {\n",
       "        vertical-align: middle;\n",
       "    }\n",
       "\n",
       "    .dataframe tbody tr th {\n",
       "        vertical-align: top;\n",
       "    }\n",
       "\n",
       "    .dataframe thead th {\n",
       "        text-align: right;\n",
       "    }\n",
       "</style>\n",
       "<table border=\"1\" class=\"dataframe\">\n",
       "  <thead>\n",
       "    <tr style=\"text-align: right;\">\n",
       "      <th></th>\n",
       "      <th>MS 1 40%</th>\n",
       "      <th>MS 2 20%</th>\n",
       "      <th>SEM RESULT 44%</th>\n",
       "      <th>TOTAL 164%</th>\n",
       "      <th>OBTAINED FOR 100</th>\n",
       "      <th>Y OR N</th>\n",
       "    </tr>\n",
       "  </thead>\n",
       "  <tbody>\n",
       "    <tr>\n",
       "      <th>0</th>\n",
       "      <td>27.2</td>\n",
       "      <td>18.4</td>\n",
       "      <td>39.6</td>\n",
       "      <td>125.2</td>\n",
       "      <td>76.341463</td>\n",
       "      <td>1</td>\n",
       "    </tr>\n",
       "    <tr>\n",
       "      <th>1</th>\n",
       "      <td>14.4</td>\n",
       "      <td>3.6</td>\n",
       "      <td>11.0</td>\n",
       "      <td>69.0</td>\n",
       "      <td>42.073171</td>\n",
       "      <td>1</td>\n",
       "    </tr>\n",
       "    <tr>\n",
       "      <th>2</th>\n",
       "      <td>31.2</td>\n",
       "      <td>16.0</td>\n",
       "      <td>39.6</td>\n",
       "      <td>126.8</td>\n",
       "      <td>77.317073</td>\n",
       "      <td>1</td>\n",
       "    </tr>\n",
       "    <tr>\n",
       "      <th>3</th>\n",
       "      <td>20.0</td>\n",
       "      <td>4.4</td>\n",
       "      <td>26.4</td>\n",
       "      <td>90.8</td>\n",
       "      <td>55.365854</td>\n",
       "      <td>0</td>\n",
       "    </tr>\n",
       "    <tr>\n",
       "      <th>4</th>\n",
       "      <td>28.8</td>\n",
       "      <td>15.2</td>\n",
       "      <td>35.2</td>\n",
       "      <td>119.2</td>\n",
       "      <td>72.682927</td>\n",
       "      <td>1</td>\n",
       "    </tr>\n",
       "  </tbody>\n",
       "</table>\n",
       "</div>"
      ],
      "text/plain": [
       "   MS 1 40%  MS 2 20%  SEM RESULT 44%  TOTAL 164%  OBTAINED FOR 100  Y OR N\n",
       "0      27.2      18.4            39.6       125.2         76.341463       1\n",
       "1      14.4       3.6            11.0        69.0         42.073171       1\n",
       "2      31.2      16.0            39.6       126.8         77.317073       1\n",
       "3      20.0       4.4            26.4        90.8         55.365854       0\n",
       "4      28.8      15.2            35.2       119.2         72.682927       1"
      ]
     },
     "execution_count": 15,
     "metadata": {},
     "output_type": "execute_result"
    }
   ],
   "source": [
    "df = c_dataset.copy()\n",
    "df.drop(['MS 3 20%', 'Threshold 60%'], axis=1, inplace=True)\n",
    "df['Y OR N'].replace(to_replace=['Y', 'N'], value=[1, 0], inplace=True)\n",
    "df.drop(['S.NO', 'REGISTER NO.','NAMES', 'ASSIGNMENT 40%'], axis=1,inplace = True)\n",
    "df.head()"
   ]
  },
  {
   "cell_type": "code",
   "execution_count": 20,
   "id": "0d904453-d449-4565-95cb-ea20c4ecc794",
   "metadata": {},
   "outputs": [
    {
     "data": {
      "text/plain": [
       "<AxesSubplot:>"
      ]
     },
     "execution_count": 20,
     "metadata": {},
     "output_type": "execute_result"
    },
    {
     "data": {
      "image/png": "[encoded data removed]",
      "text/plain": [
       "<Figure size 432x288 with 2 Axes>"
      ]
     },
     "metadata": {
      "needs_background": "light"
     },
     "output_type": "display_data"
    }
   ],
   "source": [
    "import seaborn as sns\n",
    "corr = df.corr()\n",
    "sns.heatmap(corr, annot = True)"
   ]
  },
  {
   "cell_type": "code",
   "execution_count": 21,
   "id": "1ff56bed-0a5f-46a7-8000-2439320aa93d",
   "metadata": {},
   "outputs": [
    {
     "data": {
      "text/plain": [
       "Index(['MS 1 40%', 'MS 2 20%', 'TOTAL 164%', 'OBTAINED FOR 100', 'Y OR N'], dtype='object')"
      ]
     },
     "execution_count": 21,
     "metadata": {},
     "output_type": "execute_result"
    }
   ],
   "source": [
    "df.drop(['SEM RESULT 44%'], axis = 1, inplace = True)\n",
    "df.columns"
   ]
  },
  {
   "cell_type": "code",
   "execution_count": 22,
   "id": "86f30ec9-2a13-45cc-a023-d173446eafb3",
   "metadata": {},
   "outputs": [],
   "source": [
    "vals =df[df.columns[:-1]].values"
   ]
  },
  {
   "cell_type": "code",
   "execution_count": 7,
   "id": "c165ce3a-88f7-47c9-a165-a61155fd7576",
   "metadata": {},
   "outputs": [],
   "source": [
    "def custom_data_map_func(x):\n",
    "    \"\"\"Define a function map from R^n to R.\n",
    "    \n",
    "    Args:\n",
    "        x (np.ndarray): data\n",
    "    Returns:\n",
    "        double: the mapped value\n",
    "    \"\"\"\n",
    "    coeff = x[0] if len(x) == 1 else functools.reduce(lambda m, n: m * n, np.pi - x)\n",
    "    return coeff"
   ]
  },
  {
   "cell_type": "code",
   "execution_count": 23,
   "id": "1c7fdc57-3ef8-4df2-999b-1a73da666d15",
   "metadata": {},
   "outputs": [],
   "source": [
    "train_input = vals[:25]\n",
    "test_input = vals[25:]\n",
    "\n",
    "training_data = {1:[],0:[]} # 1 == 'A' and 0 == 'B'\n",
    "for i in range(len(train_input)):\n",
    "    if df['Y OR N'][i] == 1:\n",
    "        training_data[1].append(train_input[i].tolist())\n",
    "    else:\n",
    "        training_data[0].append(train_input[i].tolist())\n",
    "        \n",
    "testing_data = {1:[],0:[]} # 1 == 'A' and 0 == 'B'\n",
    "for i in range(len(test_input)):\n",
    "    if df['Y OR N'][i] == 1:\n",
    "        testing_data[1].append(test_input[i].tolist())\n",
    "    else:\n",
    "        testing_data[0].append(test_input[i].tolist())"
   ]
  },
  {
   "cell_type": "code",
   "execution_count": 26,
   "id": "80440a57-5bd9-4bb4-baa7-e8bc5838eb1c",
   "metadata": {},
   "outputs": [],
   "source": [
    "def qsvm_testing_accuracy(training_data, testing_data, feature_dim, reps, entanglement):\n",
    "    feature_map = ZZFeatureMap(feature_dimension=feature_dim, reps=reps, entanglement=entanglement,  data_map_func=custom_data_map_func)\n",
    "    \n",
    "    qsvm = QSVM(feature_map, training_data, testing_data)\n",
    "\n",
    "    backend = BasicAer.get_backend('qasm_simulator')\n",
    "    quantum_instance = QuantumInstance(backend, shots=1024, seed_simulator=seed, seed_transpiler=seed)\n",
    "    result = qsvm.run(quantum_instance)\n",
    "    print('Testing Accuracy for reps={} and entanglement={}: '.format(reps, entanglement), result['testing_accuracy'])\n",
    "    return"
   ]
  },
  {
   "cell_type": "code",
   "execution_count": 27,
   "id": "159f367b-f1f8-4e82-8f1e-2a01d1eb2b5b",
   "metadata": {},
   "outputs": [
    {
     "name": "stdout",
     "output_type": "stream",
     "text": [
      "Testing Accuracy for reps=1 and entanglement=linear:  0.6875\n",
      "Testing Accuracy for reps=1 and entanglement=circular:  0.6875\n",
      "Testing Accuracy for reps=1 and entanglement=full:  0.5\n",
      "Testing Accuracy for reps=2 and entanglement=linear:  0.4375\n",
      "Testing Accuracy for reps=2 and entanglement=circular:  0.625\n",
      "Testing Accuracy for reps=2 and entanglement=full:  0.625\n",
      "Testing Accuracy for reps=3 and entanglement=linear:  0.625\n",
      "Testing Accuracy for reps=3 and entanglement=circular:  0.75\n",
      "Testing Accuracy for reps=3 and entanglement=full:  0.6875\n"
     ]
    }
   ],
   "source": [
    "lst = ['linear', 'circular', 'full']\n",
    "\n",
    "feature_dim = 4\n",
    "\n",
    "for i in range(len(lst)):\n",
    "    for j in lst:\n",
    "        qsvm_testing_accuracy(training_data, testing_data, feature_dim, i+1, j)\n"
   ]
  },
  {
   "cell_type": "code",
   "execution_count": 28,
   "id": "a7f29550-7ee6-4ab1-8871-a3c1f3c291d9",
   "metadata": {},
   "outputs": [
    {
     "data": {
      "text/plain": [
       "0.75"
      ]
     },
     "execution_count": 28,
     "metadata": {},
     "output_type": "execute_result"
    }
   ],
   "source": [
    "reps = 3\n",
    "entanglement = 'circular'\n",
    "feature_map = ZZFeatureMap(feature_dimension=feature_dim, reps=reps, entanglement=entanglement,  data_map_func=custom_data_map_func)\n",
    "    \n",
    "final_qsvm = QSVM(feature_map, training_data, testing_data)\n",
    "\n",
    "backend = BasicAer.get_backend('qasm_simulator')\n",
    "quantum_instance = QuantumInstance(backend, shots=1024, seed_simulator=seed, seed_transpiler=seed)\n",
    "result = final_qsvm.run(quantum_instance)\n",
    "result['testing_accuracy']"
   ]
  },
  {
   "cell_type": "code",
   "execution_count": null,
   "id": "f50551f0-1e20-48a7-9942-d61f19614d50",
   "metadata": {},
   "outputs": [],
   "source": []
  }
 ],
 "metadata": {
  "kernelspec": {
   "display_name": "Qiskit v0.35.0 (ipykernel)",
   "language": "python",
   "name": "python3"
  },
  "language_info": {
   "codemirror_mode": {
    "name": "ipython",
    "version": 3
   },
   "file_extension": ".py",
   "mimetype": "text/x-python",
   "name": "python",
   "nbconvert_exporter": "python",
   "pygments_lexer": "ipython3",
   "version": "3.8.13"
  },
  "widgets": {
   "application/vnd.jupyter.widget-state+json": {
    "state": {},
    "version_major": 2,
    "version_minor": 0
   }
  }
 },
 "nbformat": 4,
 "nbformat_minor": 5
}
