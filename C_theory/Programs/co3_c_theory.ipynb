{
 "cells": [
  {
   "cell_type": "code",
   "execution_count": 4,
   "id": "3b32fe91-6c79-485d-b016-24b68e7f44e2",
   "metadata": {},
   "outputs": [],
   "source": [
    "import pandas as pd\n",
    "import matplotlib.pyplot as plt\n",
    "import numpy as np\n",
    "from sklearn.preprocessing import MinMaxScaler\n",
    "\n",
    "from qiskit import BasicAer\n",
    "from qiskit.circuit.library import ZZFeatureMap, PauliFeatureMap\n",
    "from qiskit.aqua import QuantumInstance, aqua_globals\n",
    "from qiskit.aqua.algorithms import QSVM\n",
    "from qiskit.aqua.utils import split_dataset_to_data_and_labels, map_label_to_class_name\n",
    "\n",
    "seed = 10599\n",
    "aqua_globals.random_seed = seed\n",
    "import warnings\n",
    "warnings.filterwarnings('ignore')"
   ]
  },
  {
   "cell_type": "code",
   "execution_count": 5,
   "id": "d84a450c-223c-4f2c-8d55-fa0d8554ac63",
   "metadata": {},
   "outputs": [],
   "source": [
    "from qiskit.aqua.components.optimizers import COBYLA\n",
    "from qiskit.aqua.components.feature_maps import RawFeatureVector\n",
    "from qiskit.circuit.library import TwoLocal\n",
    "import functools"
   ]
  },
  {
   "cell_type": "code",
   "execution_count": 6,
   "id": "62457827-a8cc-4a8f-999b-203b26be782e",
   "metadata": {},
   "outputs": [
    {
     "data": {
      "text/html": [
       "<div>\n",
       "<style scoped>\n",
       "    .dataframe tbody tr th:only-of-type {\n",
       "        vertical-align: middle;\n",
       "    }\n",
       "\n",
       "    .dataframe tbody tr th {\n",
       "        vertical-align: top;\n",
       "    }\n",
       "\n",
       "    .dataframe thead th {\n",
       "        text-align: right;\n",
       "    }\n",
       "</style>\n",
       "<table border=\"1\" class=\"dataframe\">\n",
       "  <thead>\n",
       "    <tr style=\"text-align: right;\">\n",
       "      <th></th>\n",
       "      <th>S.NO</th>\n",
       "      <th>REGISTER NO.</th>\n",
       "      <th>NAMES</th>\n",
       "      <th>MS 1 40%</th>\n",
       "      <th>MS 2 40%</th>\n",
       "      <th>MS 3 20%</th>\n",
       "      <th>ASSIGNMENT 20%</th>\n",
       "      <th>SEM RESULT 22%</th>\n",
       "      <th>TOTAL 142%</th>\n",
       "      <th>OBTAINED FOR 100</th>\n",
       "      <th>Y OR N</th>\n",
       "      <th>Threshold 60%</th>\n",
       "    </tr>\n",
       "  </thead>\n",
       "  <tbody>\n",
       "    <tr>\n",
       "      <th>0</th>\n",
       "      <td>1</td>\n",
       "      <td>15 51 001</td>\n",
       "      <td>AARTHI.P.</td>\n",
       "      <td>27.2</td>\n",
       "      <td>36.8</td>\n",
       "      <td>0</td>\n",
       "      <td>20</td>\n",
       "      <td>19.8</td>\n",
       "      <td>103.8</td>\n",
       "      <td>73.098592</td>\n",
       "      <td>Y</td>\n",
       "      <td>Y</td>\n",
       "    </tr>\n",
       "    <tr>\n",
       "      <th>1</th>\n",
       "      <td>2</td>\n",
       "      <td>15 51 002</td>\n",
       "      <td>ABDUL KHADI.K.</td>\n",
       "      <td>14.4</td>\n",
       "      <td>7.2</td>\n",
       "      <td>0</td>\n",
       "      <td>20</td>\n",
       "      <td>5.5</td>\n",
       "      <td>47.1</td>\n",
       "      <td>33.169014</td>\n",
       "      <td>N</td>\n",
       "      <td>N</td>\n",
       "    </tr>\n",
       "    <tr>\n",
       "      <th>2</th>\n",
       "      <td>3</td>\n",
       "      <td>15 51 003</td>\n",
       "      <td>ABINAYA.N.</td>\n",
       "      <td>31.2</td>\n",
       "      <td>32.0</td>\n",
       "      <td>0</td>\n",
       "      <td>20</td>\n",
       "      <td>19.8</td>\n",
       "      <td>103.0</td>\n",
       "      <td>72.535211</td>\n",
       "      <td>Y</td>\n",
       "      <td>Y</td>\n",
       "    </tr>\n",
       "    <tr>\n",
       "      <th>3</th>\n",
       "      <td>4</td>\n",
       "      <td>15 51 004</td>\n",
       "      <td>AKALYA.M.</td>\n",
       "      <td>20.0</td>\n",
       "      <td>8.8</td>\n",
       "      <td>0</td>\n",
       "      <td>20</td>\n",
       "      <td>13.2</td>\n",
       "      <td>62.0</td>\n",
       "      <td>43.661972</td>\n",
       "      <td>N</td>\n",
       "      <td>N</td>\n",
       "    </tr>\n",
       "    <tr>\n",
       "      <th>4</th>\n",
       "      <td>5</td>\n",
       "      <td>15 51 005</td>\n",
       "      <td>ARCHANADEVI@KAMATCHI R.</td>\n",
       "      <td>28.8</td>\n",
       "      <td>30.4</td>\n",
       "      <td>0</td>\n",
       "      <td>20</td>\n",
       "      <td>17.6</td>\n",
       "      <td>96.8</td>\n",
       "      <td>68.169014</td>\n",
       "      <td>Y</td>\n",
       "      <td>Y</td>\n",
       "    </tr>\n",
       "  </tbody>\n",
       "</table>\n",
       "</div>"
      ],
      "text/plain": [
       "   S.NO REGISTER NO.                    NAMES  MS 1 40%  MS 2 40%  MS 3 20%  \\\n",
       "0     1    15 51 001                AARTHI.P.      27.2      36.8         0   \n",
       "1     2    15 51 002           ABDUL KHADI.K.      14.4       7.2         0   \n",
       "2     3    15 51 003               ABINAYA.N.      31.2      32.0         0   \n",
       "3     4    15 51 004                AKALYA.M.      20.0       8.8         0   \n",
       "4     5    15 51 005  ARCHANADEVI@KAMATCHI R.      28.8      30.4         0   \n",
       "\n",
       "   ASSIGNMENT 20%  SEM RESULT 22%  TOTAL 142%  OBTAINED FOR 100 Y OR N  \\\n",
       "0              20            19.8       103.8         73.098592      Y   \n",
       "1              20             5.5        47.1         33.169014      N   \n",
       "2              20            19.8       103.0         72.535211      Y   \n",
       "3              20            13.2        62.0         43.661972      N   \n",
       "4              20            17.6        96.8         68.169014      Y   \n",
       "\n",
       "  Threshold 60%  \n",
       "0             Y  \n",
       "1             N  \n",
       "2             Y  \n",
       "3             N  \n",
       "4             Y  "
      ]
     },
     "execution_count": 6,
     "metadata": {},
     "output_type": "execute_result"
    }
   ],
   "source": [
    "c_dataset = pd.read_excel('co3_attainment_c_theory.xlsx', engine='openpyxl')\n",
    "\n",
    "c_dataset.head()"
   ]
  },
  {
   "cell_type": "code",
   "execution_count": 15,
   "id": "0a3d8f93-ebab-4317-982c-ca7d3d9b922f",
   "metadata": {},
   "outputs": [
    {
     "data": {
      "text/html": [
       "<div>\n",
       "<style scoped>\n",
       "    .dataframe tbody tr th:only-of-type {\n",
       "        vertical-align: middle;\n",
       "    }\n",
       "\n",
       "    .dataframe tbody tr th {\n",
       "        vertical-align: top;\n",
       "    }\n",
       "\n",
       "    .dataframe thead th {\n",
       "        text-align: right;\n",
       "    }\n",
       "</style>\n",
       "<table border=\"1\" class=\"dataframe\">\n",
       "  <thead>\n",
       "    <tr style=\"text-align: right;\">\n",
       "      <th></th>\n",
       "      <th>MS 1 40%</th>\n",
       "      <th>MS 2 40%</th>\n",
       "      <th>SEM RESULT 22%</th>\n",
       "      <th>TOTAL 142%</th>\n",
       "      <th>OBTAINED FOR 100</th>\n",
       "      <th>Y OR N</th>\n",
       "    </tr>\n",
       "  </thead>\n",
       "  <tbody>\n",
       "    <tr>\n",
       "      <th>0</th>\n",
       "      <td>27.2</td>\n",
       "      <td>36.8</td>\n",
       "      <td>19.8</td>\n",
       "      <td>103.8</td>\n",
       "      <td>73.098592</td>\n",
       "      <td>1</td>\n",
       "    </tr>\n",
       "    <tr>\n",
       "      <th>1</th>\n",
       "      <td>14.4</td>\n",
       "      <td>7.2</td>\n",
       "      <td>5.5</td>\n",
       "      <td>47.1</td>\n",
       "      <td>33.169014</td>\n",
       "      <td>0</td>\n",
       "    </tr>\n",
       "    <tr>\n",
       "      <th>2</th>\n",
       "      <td>31.2</td>\n",
       "      <td>32.0</td>\n",
       "      <td>19.8</td>\n",
       "      <td>103.0</td>\n",
       "      <td>72.535211</td>\n",
       "      <td>1</td>\n",
       "    </tr>\n",
       "    <tr>\n",
       "      <th>3</th>\n",
       "      <td>20.0</td>\n",
       "      <td>8.8</td>\n",
       "      <td>13.2</td>\n",
       "      <td>62.0</td>\n",
       "      <td>43.661972</td>\n",
       "      <td>0</td>\n",
       "    </tr>\n",
       "    <tr>\n",
       "      <th>4</th>\n",
       "      <td>28.8</td>\n",
       "      <td>30.4</td>\n",
       "      <td>17.6</td>\n",
       "      <td>96.8</td>\n",
       "      <td>68.169014</td>\n",
       "      <td>1</td>\n",
       "    </tr>\n",
       "  </tbody>\n",
       "</table>\n",
       "</div>"
      ],
      "text/plain": [
       "   MS 1 40%  MS 2 40%  SEM RESULT 22%  TOTAL 142%  OBTAINED FOR 100  Y OR N\n",
       "0      27.2      36.8            19.8       103.8         73.098592       1\n",
       "1      14.4       7.2             5.5        47.1         33.169014       0\n",
       "2      31.2      32.0            19.8       103.0         72.535211       1\n",
       "3      20.0       8.8            13.2        62.0         43.661972       0\n",
       "4      28.8      30.4            17.6        96.8         68.169014       1"
      ]
     },
     "execution_count": 15,
     "metadata": {},
     "output_type": "execute_result"
    }
   ],
   "source": [
    "df = c_dataset.copy()\n",
    "df.drop(['MS 3 20%', 'Threshold 60%'], axis=1, inplace=True)\n",
    "df['Y OR N'].replace(to_replace=['Y', 'N'], value=[1, 0], inplace=True)\n",
    "df.drop(['S.NO', 'REGISTER NO.','NAMES', 'ASSIGNMENT 20%'], axis=1,inplace = True)\n",
    "df.head()"
   ]
  },
  {
   "cell_type": "code",
   "execution_count": 21,
   "id": "f32d5e86-d11a-457c-a6ae-ef007c0d3f35",
   "metadata": {},
   "outputs": [
    {
     "data": {
      "text/plain": [
       "<AxesSubplot:>"
      ]
     },
     "execution_count": 21,
     "metadata": {},
     "output_type": "execute_result"
    },
    {
     "data": {
      "image/png": "[encoded data removed]",
      "text/plain": [
       "<Figure size 432x288 with 2 Axes>"
      ]
     },
     "metadata": {
      "needs_background": "light"
     },
     "output_type": "display_data"
    }
   ],
   "source": [
    "import seaborn as sns\n",
    "corr = df.corr()\n",
    "sns.heatmap(corr, annot=True)"
   ]
  },
  {
   "cell_type": "code",
   "execution_count": 16,
   "id": "8ddb2242-2b85-4c59-905f-0499a17275cb",
   "metadata": {},
   "outputs": [],
   "source": [
    "vals = df[df.columns[:-1]].values"
   ]
  },
  {
   "cell_type": "code",
   "execution_count": 11,
   "id": "334e10ea-f5a7-4dcb-89cf-8e8af55abc78",
   "metadata": {},
   "outputs": [],
   "source": [
    "def custom_data_map_func(x):\n",
    "    \"\"\"Define a function map from R^n to R.\n",
    "    \n",
    "    Args:\n",
    "        x (np.ndarray): data\n",
    "    Returns:\n",
    "        double: the mapped value\n",
    "    \"\"\"\n",
    "    coeff = x[0] if len(x) == 1 else functools.reduce(lambda m, n: m * n, np.pi - x)\n",
    "    return coeff"
   ]
  },
  {
   "cell_type": "code",
   "execution_count": 17,
   "id": "fb141e0e-7f46-499e-989e-8ca6e528eacd",
   "metadata": {},
   "outputs": [],
   "source": [
    "train_input = vals[:25]\n",
    "test_input = vals[25:]\n",
    "\n",
    "training_data = {1:[],0:[]} # 1 == 'A' and 0 == 'B'\n",
    "for i in range(len(train_input)):\n",
    "    if df['Y OR N'][i] == 1:\n",
    "        training_data[1].append(train_input[i].tolist())\n",
    "    else:\n",
    "        training_data[0].append(train_input[i].tolist())\n",
    "        \n",
    "testing_data = {1:[],0:[]} # 1 == 'A' and 0 == 'B'\n",
    "for i in range(len(test_input)):\n",
    "    if df['Y OR N'][i] == 1:\n",
    "        testing_data[1].append(test_input[i].tolist())\n",
    "    else:\n",
    "        testing_data[0].append(test_input[i].tolist())"
   ]
  },
  {
   "cell_type": "code",
   "execution_count": 22,
   "id": "42a22ba1-069b-46d6-8829-19856b338886",
   "metadata": {},
   "outputs": [],
   "source": [
    "def qsvm_testing_accuracy(training_data, testing_data, feature_dim, reps, entanglement):\n",
    "    feature_map = ZZFeatureMap(feature_dimension=feature_dim, reps=reps, entanglement=entanglement,  data_map_func=custom_data_map_func)\n",
    "    \n",
    "    qsvm = QSVM(feature_map, training_data, testing_data)\n",
    "\n",
    "    backend = BasicAer.get_backend('qasm_simulator')\n",
    "    quantum_instance = QuantumInstance(backend, shots=1024, seed_simulator=seed, seed_transpiler=seed)\n",
    "    result = qsvm.run(quantum_instance)\n",
    "    print('Testing Accuracy for reps={} and entanglement={}: '.format(reps, entanglement), result['testing_accuracy'])\n",
    "    return"
   ]
  },
  {
   "cell_type": "code",
   "execution_count": 23,
   "id": "44ed13a4-f49b-4d59-b9a0-81919a3177bc",
   "metadata": {},
   "outputs": [
    {
     "name": "stdout",
     "output_type": "stream",
     "text": [
      "Testing Accuracy for reps=1 and entanglement=linear:  0.625\n",
      "Testing Accuracy for reps=1 and entanglement=circular:  0.6875\n",
      "Testing Accuracy for reps=1 and entanglement=full:  0.625\n",
      "Testing Accuracy for reps=2 and entanglement=linear:  0.75\n",
      "Testing Accuracy for reps=2 and entanglement=circular:  0.6875\n",
      "Testing Accuracy for reps=2 and entanglement=full:  0.6875\n",
      "Testing Accuracy for reps=3 and entanglement=linear:  0.6875\n",
      "Testing Accuracy for reps=3 and entanglement=circular:  0.6875\n",
      "Testing Accuracy for reps=3 and entanglement=full:  0.6875\n"
     ]
    }
   ],
   "source": [
    "lst = ['linear', 'circular', 'full']\n",
    "\n",
    "feature_dim = 5\n",
    "\n",
    "for i in range(len(lst)):\n",
    "    for j in lst:\n",
    "        qsvm_testing_accuracy(training_data, testing_data, feature_dim, i+1, j)\n"
   ]
  },
  {
   "cell_type": "code",
   "execution_count": 24,
   "id": "ac2e32b4-c0e2-4346-99b3-ed974997ab80",
   "metadata": {},
   "outputs": [
    {
     "data": {
      "text/plain": [
       "0.75"
      ]
     },
     "execution_count": 24,
     "metadata": {},
     "output_type": "execute_result"
    }
   ],
   "source": [
    "reps = 2\n",
    "entanglement = 'linear'\n",
    "feature_map = ZZFeatureMap(feature_dimension=feature_dim, reps=reps, entanglement=entanglement,  data_map_func=custom_data_map_func)\n",
    "    \n",
    "final_qsvm = QSVM(feature_map, training_data, testing_data)\n",
    "\n",
    "backend = BasicAer.get_backend('qasm_simulator')\n",
    "quantum_instance = QuantumInstance(backend, shots=1024, seed_simulator=seed, seed_transpiler=seed)\n",
    "result = final_qsvm.run(quantum_instance)\n",
    "result['testing_accuracy']"
   ]
  },
  {
   "cell_type": "code",
   "execution_count": null,
   "id": "b80852b1-c1d9-4cc9-9e8d-2352e10f9b1d",
   "metadata": {},
   "outputs": [],
   "source": []
  }
 ],
 "metadata": {
  "kernelspec": {
   "display_name": "Qiskit v0.35.0 (ipykernel)",
   "language": "python",
   "name": "python3"
  },
  "language_info": {
   "codemirror_mode": {
    "name": "ipython",
    "version": 3
   },
   "file_extension": ".py",
   "mimetype": "text/x-python",
   "name": "python",
   "nbconvert_exporter": "python",
   "pygments_lexer": "ipython3",
   "version": "3.8.13"
  },
  "widgets": {
   "application/vnd.jupyter.widget-state+json": {
    "state": {},
    "version_major": 2,
    "version_minor": 0
   }
  }
 },
 "nbformat": 4,
 "nbformat_minor": 5
}
