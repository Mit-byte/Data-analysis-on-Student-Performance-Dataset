{
 "cells": [
  {
   "cell_type": "code",
   "execution_count": 1,
   "id": "6c933798-f292-4e65-8cf9-132712bc45b9",
   "metadata": {},
   "outputs": [
    {
     "name": "stderr",
     "output_type": "stream",
     "text": [
      "<frozen importlib._bootstrap>:219: RuntimeWarning: scipy._lib.messagestream.MessageStream size changed, may indicate binary incompatibility. Expected 56 from C header, got 64 from PyObject\n",
      "/tmp/ipykernel_10859/3458627689.py:13: DeprecationWarning: The variable qiskit.aqua.aqua_globals is deprecated. It was moved/refactored to qiskit.utils.algorithm_globals (pip install qiskit-terra). For more information see <https://github.com/Qiskit/qiskit-aqua/blob/main/README.md#migration-guide>\n",
      "  aqua_globals.random_seed = seed\n"
     ]
    }
   ],
   "source": [
    "import pandas as pd\n",
    "import matplotlib.pyplot as plt\n",
    "import numpy as np\n",
    "from sklearn.preprocessing import MinMaxScaler\n",
    "\n",
    "from qiskit import BasicAer\n",
    "from qiskit.circuit.library import ZZFeatureMap, PauliFeatureMap\n",
    "from qiskit.aqua import QuantumInstance, aqua_globals\n",
    "from qiskit.aqua.algorithms import QSVM\n",
    "from qiskit.aqua.utils import split_dataset_to_data_and_labels, map_label_to_class_name\n",
    "\n",
    "seed = 10599\n",
    "aqua_globals.random_seed = seed\n",
    "import warnings\n",
    "warnings.filterwarnings('ignore')"
   ]
  },
  {
   "cell_type": "code",
   "execution_count": 2,
   "id": "758cc7e3-251f-470e-9814-398f13d112c2",
   "metadata": {},
   "outputs": [],
   "source": [
    "from qiskit.aqua.components.optimizers import COBYLA\n",
    "from qiskit.aqua.components.feature_maps import RawFeatureVector\n",
    "from qiskit.circuit.library import TwoLocal\n",
    "import functools"
   ]
  },
  {
   "cell_type": "code",
   "execution_count": 3,
   "id": "ff768864-5021-42d7-908d-6cf1aad2a06f",
   "metadata": {},
   "outputs": [
    {
     "data": {
      "text/html": [
       "<div>\n",
       "<style scoped>\n",
       "    .dataframe tbody tr th:only-of-type {\n",
       "        vertical-align: middle;\n",
       "    }\n",
       "\n",
       "    .dataframe tbody tr th {\n",
       "        vertical-align: top;\n",
       "    }\n",
       "\n",
       "    .dataframe thead th {\n",
       "        text-align: right;\n",
       "    }\n",
       "</style>\n",
       "<table border=\"1\" class=\"dataframe\">\n",
       "  <thead>\n",
       "    <tr style=\"text-align: right;\">\n",
       "      <th></th>\n",
       "      <th>S.NO</th>\n",
       "      <th>REGISTER NO.</th>\n",
       "      <th>NAMES</th>\n",
       "      <th>MS 1 40%</th>\n",
       "      <th>MS 2 20%</th>\n",
       "      <th>Attendance %</th>\n",
       "      <th>SEM RESULT 44%</th>\n",
       "      <th>TOTAL 164%</th>\n",
       "      <th>OBTAINED FOR 100</th>\n",
       "      <th>Threshold 60%</th>\n",
       "    </tr>\n",
       "  </thead>\n",
       "  <tbody>\n",
       "    <tr>\n",
       "      <th>0</th>\n",
       "      <td>1</td>\n",
       "      <td>15 51 001</td>\n",
       "      <td>AARTHI.P.</td>\n",
       "      <td>27.2</td>\n",
       "      <td>18.4</td>\n",
       "      <td>93</td>\n",
       "      <td>39.6</td>\n",
       "      <td>125.2</td>\n",
       "      <td>76.341463</td>\n",
       "      <td>Y</td>\n",
       "    </tr>\n",
       "    <tr>\n",
       "      <th>1</th>\n",
       "      <td>2</td>\n",
       "      <td>15 51 002</td>\n",
       "      <td>ABDUL KHADI.K.</td>\n",
       "      <td>14.4</td>\n",
       "      <td>3.6</td>\n",
       "      <td>93</td>\n",
       "      <td>11.0</td>\n",
       "      <td>69.0</td>\n",
       "      <td>42.073171</td>\n",
       "      <td>N</td>\n",
       "    </tr>\n",
       "    <tr>\n",
       "      <th>2</th>\n",
       "      <td>3</td>\n",
       "      <td>15 51 003</td>\n",
       "      <td>ABINAYA.N.</td>\n",
       "      <td>31.2</td>\n",
       "      <td>16.0</td>\n",
       "      <td>97</td>\n",
       "      <td>39.6</td>\n",
       "      <td>126.8</td>\n",
       "      <td>77.317073</td>\n",
       "      <td>Y</td>\n",
       "    </tr>\n",
       "    <tr>\n",
       "      <th>3</th>\n",
       "      <td>4</td>\n",
       "      <td>15 51 004</td>\n",
       "      <td>AKALYA.M.</td>\n",
       "      <td>20.0</td>\n",
       "      <td>4.4</td>\n",
       "      <td>93</td>\n",
       "      <td>26.4</td>\n",
       "      <td>90.8</td>\n",
       "      <td>55.365854</td>\n",
       "      <td>N</td>\n",
       "    </tr>\n",
       "    <tr>\n",
       "      <th>4</th>\n",
       "      <td>5</td>\n",
       "      <td>15 51 005</td>\n",
       "      <td>ARCHANADEVI@KAMATCHI R.</td>\n",
       "      <td>28.8</td>\n",
       "      <td>15.2</td>\n",
       "      <td>93</td>\n",
       "      <td>35.2</td>\n",
       "      <td>119.2</td>\n",
       "      <td>72.682927</td>\n",
       "      <td>Y</td>\n",
       "    </tr>\n",
       "  </tbody>\n",
       "</table>\n",
       "</div>"
      ],
      "text/plain": [
       "   S.NO REGISTER NO.                    NAMES  MS 1 40%  MS 2 20%  \\\n",
       "0     1    15 51 001                AARTHI.P.      27.2      18.4   \n",
       "1     2    15 51 002           ABDUL KHADI.K.      14.4       3.6   \n",
       "2     3    15 51 003               ABINAYA.N.      31.2      16.0   \n",
       "3     4    15 51 004                AKALYA.M.      20.0       4.4   \n",
       "4     5    15 51 005  ARCHANADEVI@KAMATCHI R.      28.8      15.2   \n",
       "\n",
       "   Attendance %  SEM RESULT 44%  TOTAL 164%  OBTAINED FOR 100 Threshold 60%  \n",
       "0            93            39.6       125.2         76.341463             Y  \n",
       "1            93            11.0        69.0         42.073171             N  \n",
       "2            97            39.6       126.8         77.317073             Y  \n",
       "3            93            26.4        90.8         55.365854             N  \n",
       "4            93            35.2       119.2         72.682927             Y  "
      ]
     },
     "execution_count": 3,
     "metadata": {},
     "output_type": "execute_result"
    }
   ],
   "source": [
    "c_dataset = pd.read_excel('co2_programming_c.xlsx', engine='openpyxl')\n",
    "\n",
    "c_dataset.head()"
   ]
  },
  {
   "cell_type": "code",
   "execution_count": 4,
   "id": "dd9e061a-5da7-41e7-89f7-414cd0de10b2",
   "metadata": {},
   "outputs": [
    {
     "data": {
      "text/html": [
       "<div>\n",
       "<style scoped>\n",
       "    .dataframe tbody tr th:only-of-type {\n",
       "        vertical-align: middle;\n",
       "    }\n",
       "\n",
       "    .dataframe tbody tr th {\n",
       "        vertical-align: top;\n",
       "    }\n",
       "\n",
       "    .dataframe thead th {\n",
       "        text-align: right;\n",
       "    }\n",
       "</style>\n",
       "<table border=\"1\" class=\"dataframe\">\n",
       "  <thead>\n",
       "    <tr style=\"text-align: right;\">\n",
       "      <th></th>\n",
       "      <th>MS 1 40%</th>\n",
       "      <th>MS 2 20%</th>\n",
       "      <th>Attendance %</th>\n",
       "      <th>SEM RESULT 44%</th>\n",
       "      <th>TOTAL 164%</th>\n",
       "      <th>OBTAINED FOR 100</th>\n",
       "      <th>Threshold 60%</th>\n",
       "    </tr>\n",
       "  </thead>\n",
       "  <tbody>\n",
       "    <tr>\n",
       "      <th>0</th>\n",
       "      <td>27.2</td>\n",
       "      <td>18.4</td>\n",
       "      <td>93</td>\n",
       "      <td>39.6</td>\n",
       "      <td>125.2</td>\n",
       "      <td>76.341463</td>\n",
       "      <td>1</td>\n",
       "    </tr>\n",
       "    <tr>\n",
       "      <th>1</th>\n",
       "      <td>14.4</td>\n",
       "      <td>3.6</td>\n",
       "      <td>93</td>\n",
       "      <td>11.0</td>\n",
       "      <td>69.0</td>\n",
       "      <td>42.073171</td>\n",
       "      <td>0</td>\n",
       "    </tr>\n",
       "    <tr>\n",
       "      <th>2</th>\n",
       "      <td>31.2</td>\n",
       "      <td>16.0</td>\n",
       "      <td>97</td>\n",
       "      <td>39.6</td>\n",
       "      <td>126.8</td>\n",
       "      <td>77.317073</td>\n",
       "      <td>1</td>\n",
       "    </tr>\n",
       "    <tr>\n",
       "      <th>3</th>\n",
       "      <td>20.0</td>\n",
       "      <td>4.4</td>\n",
       "      <td>93</td>\n",
       "      <td>26.4</td>\n",
       "      <td>90.8</td>\n",
       "      <td>55.365854</td>\n",
       "      <td>0</td>\n",
       "    </tr>\n",
       "    <tr>\n",
       "      <th>4</th>\n",
       "      <td>28.8</td>\n",
       "      <td>15.2</td>\n",
       "      <td>93</td>\n",
       "      <td>35.2</td>\n",
       "      <td>119.2</td>\n",
       "      <td>72.682927</td>\n",
       "      <td>1</td>\n",
       "    </tr>\n",
       "  </tbody>\n",
       "</table>\n",
       "</div>"
      ],
      "text/plain": [
       "   MS 1 40%  MS 2 20%  Attendance %  SEM RESULT 44%  TOTAL 164%  \\\n",
       "0      27.2      18.4            93            39.6       125.2   \n",
       "1      14.4       3.6            93            11.0        69.0   \n",
       "2      31.2      16.0            97            39.6       126.8   \n",
       "3      20.0       4.4            93            26.4        90.8   \n",
       "4      28.8      15.2            93            35.2       119.2   \n",
       "\n",
       "   OBTAINED FOR 100  Threshold 60%  \n",
       "0         76.341463              1  \n",
       "1         42.073171              0  \n",
       "2         77.317073              1  \n",
       "3         55.365854              0  \n",
       "4         72.682927              1  "
      ]
     },
     "execution_count": 4,
     "metadata": {},
     "output_type": "execute_result"
    }
   ],
   "source": [
    "df = c_dataset.copy()\n",
    "df['Threshold 60%'].replace(to_replace=['Y', 'N'], value=[1, 0], inplace=True)\n",
    "df.drop(['S.NO', 'REGISTER NO.','NAMES'], axis=1,inplace = True)\n",
    "df.head()"
   ]
  },
  {
   "cell_type": "code",
   "execution_count": 5,
   "id": "9b1e2814-fd0a-4215-a96a-487dc11970f2",
   "metadata": {},
   "outputs": [
    {
     "data": {
      "text/plain": [
       "<AxesSubplot:>"
      ]
     },
     "execution_count": 5,
     "metadata": {},
     "output_type": "execute_result"
    },
    {
     "data": {
      "image/png": "[encoded data removed]",
      "text/plain": [
       "<Figure size 432x288 with 2 Axes>"
      ]
     },
     "metadata": {
      "needs_background": "light"
     },
     "output_type": "display_data"
    }
   ],
   "source": [
    "import seaborn as sns\n",
    "corr = df.corr()\n",
    "sns.heatmap(corr, annot=True)"
   ]
  },
  {
   "cell_type": "code",
   "execution_count": 6,
   "id": "8aeee6fe-43bd-4563-968e-fd9b6f7cd03d",
   "metadata": {},
   "outputs": [
    {
     "data": {
      "text/plain": [
       "Index(['MS 1 40%', 'MS 2 20%', 'SEM RESULT 44%', 'TOTAL 164%',\n",
       "       'OBTAINED FOR 100', 'Threshold 60%'],\n",
       "      dtype='object')"
      ]
     },
     "execution_count": 6,
     "metadata": {},
     "output_type": "execute_result"
    }
   ],
   "source": [
    "df.drop(['Attendance %'], axis = 1, inplace = True)\n",
    "df.columns"
   ]
  },
  {
   "cell_type": "code",
   "execution_count": 7,
   "id": "cc1caed7-6ba0-4570-a135-6d62b7300b1e",
   "metadata": {},
   "outputs": [],
   "source": [
    "vals = df[df.columns[:-1]].values"
   ]
  },
  {
   "cell_type": "markdown",
   "id": "c7a3032d-093e-4564-a5ba-4b83dd58deae",
   "metadata": {},
   "source": [
    "# QSVM"
   ]
  },
  {
   "cell_type": "code",
   "execution_count": 8,
   "id": "914121bd-4b21-4f9f-b806-f1e1655bac44",
   "metadata": {},
   "outputs": [],
   "source": [
    "def custom_data_map_func(x):\n",
    "    \"\"\"Define a function map from R^n to R.\n",
    "    \n",
    "    Args:\n",
    "        x (np.ndarray): data\n",
    "    Returns:\n",
    "        double: the mapped value\n",
    "    \"\"\"\n",
    "    coeff = x[0] if len(x) == 1 else functools.reduce(lambda m, n: m * n, np.pi - x)\n",
    "    return coeff"
   ]
  },
  {
   "cell_type": "code",
   "execution_count": 9,
   "id": "741679ab-121b-410f-be5f-a20ad2115788",
   "metadata": {},
   "outputs": [],
   "source": [
    "train_input = vals[:25]\n",
    "test_input = vals[25:]\n",
    "\n",
    "training_data = {1:[],0:[]} # 1 == 'A' and 0 == 'B'\n",
    "for i in range(len(train_input)):\n",
    "    if df['Threshold 60%'][i] == 1:\n",
    "        training_data[1].append(train_input[i].tolist())\n",
    "    else:\n",
    "        training_data[0].append(train_input[i].tolist())\n",
    "        \n",
    "testing_data = {1:[],0:[]} # 1 == 'A' and 0 == 'B'\n",
    "for i in range(len(test_input)):\n",
    "    if df['Threshold 60%'][i] == 1:\n",
    "        testing_data[1].append(test_input[i].tolist())\n",
    "    else:\n",
    "        testing_data[0].append(test_input[i].tolist())"
   ]
  },
  {
   "cell_type": "code",
   "execution_count": 10,
   "id": "631076a3-f7be-4b9b-8697-a9fda42281aa",
   "metadata": {},
   "outputs": [],
   "source": [
    "def qsvm_testing_accuracy(training_data, testing_data, feature_dim, reps, entanglement):\n",
    "    feature_map = ZZFeatureMap(feature_dimension=feature_dim, reps=reps, entanglement=entanglement,  data_map_func=custom_data_map_func)\n",
    "    \n",
    "    qsvm = QSVM(feature_map, training_data, testing_data)\n",
    "\n",
    "    backend = BasicAer.get_backend('qasm_simulator')\n",
    "    quantum_instance = QuantumInstance(backend, shots=1024, seed_simulator=seed, seed_transpiler=seed)\n",
    "    result = qsvm.run(quantum_instance)\n",
    "    print('Testing Accuracy for reps={} and entanglement={}: '.format(reps, entanglement), result['testing_accuracy'])\n",
    "    return"
   ]
  },
  {
   "cell_type": "code",
   "execution_count": 11,
   "id": "c7ce9630-4f8d-4dcb-bb3a-d7df53d50db3",
   "metadata": {},
   "outputs": [
    {
     "name": "stdout",
     "output_type": "stream",
     "text": [
      "Testing Accuracy for reps=1 and entanglement=linear:  0.625\n",
      "Testing Accuracy for reps=1 and entanglement=circular:  0.625\n",
      "Testing Accuracy for reps=1 and entanglement=full:  0.6875\n",
      "Testing Accuracy for reps=2 and entanglement=linear:  0.6875\n",
      "Testing Accuracy for reps=2 and entanglement=circular:  0.6875\n",
      "Testing Accuracy for reps=2 and entanglement=full:  0.6875\n",
      "Testing Accuracy for reps=3 and entanglement=linear:  0.625\n",
      "Testing Accuracy for reps=3 and entanglement=circular:  0.6875\n",
      "Testing Accuracy for reps=3 and entanglement=full:  0.6875\n"
     ]
    }
   ],
   "source": [
    "lst = ['linear', 'circular', 'full']\n",
    "\n",
    "feature_dim = 5\n",
    "\n",
    "for i in range(len(lst)):\n",
    "    for j in lst:\n",
    "        qsvm_testing_accuracy(training_data, testing_data, feature_dim, i+1, j)\n"
   ]
  },
  {
   "cell_type": "code",
   "execution_count": 12,
   "id": "a652b828-d2f3-497c-ac17-678b4e53ed1e",
   "metadata": {},
   "outputs": [
    {
     "data": {
      "text/plain": [
       "0.6875"
      ]
     },
     "execution_count": 12,
     "metadata": {},
     "output_type": "execute_result"
    }
   ],
   "source": [
    "reps = 2\n",
    "entanglement = 'linear'\n",
    "feature_map = ZZFeatureMap(feature_dimension=feature_dim, reps=reps, entanglement=entanglement,  data_map_func=custom_data_map_func)\n",
    "    \n",
    "final_qsvm = QSVM(feature_map, training_data, testing_data)\n",
    "\n",
    "backend = BasicAer.get_backend('qasm_simulator')\n",
    "quantum_instance = QuantumInstance(backend, shots=1024, seed_simulator=seed, seed_transpiler=seed)\n",
    "result = final_qsvm.run(quantum_instance)\n",
    "result['testing_accuracy']"
   ]
  },
  {
   "cell_type": "markdown",
   "id": "2c8f1cb5-d60a-4ebb-a478-c456cd2f1998",
   "metadata": {},
   "source": [
    "# VQC"
   ]
  },
  {
   "cell_type": "code",
   "execution_count": 13,
   "id": "270d25af-d543-42c2-9691-56b7470ade30",
   "metadata": {},
   "outputs": [],
   "source": [
    "from qiskit.aqua.algorithms import VQC"
   ]
  },
  {
   "cell_type": "code",
   "execution_count": 14,
   "id": "24cedd4e-822a-4f02-ad6d-a8563dd38ad0",
   "metadata": {},
   "outputs": [
    {
     "name": "stdout",
     "output_type": "stream",
     "text": [
      "Testing accuracy: 0.75\n",
      "{'num_optimizer_evals': 100, 'min_val': 0.5277471856189987, 'opt_params': array([ 1.57852891,  1.92310118, -0.42682029, -0.31841217,  1.44032704,\n",
      "       -0.15592288, -0.61309153,  2.70540931, -0.23023543, -0.18415167,\n",
      "        1.34081528, -1.27376323,  1.37152194,  2.39563254,  1.21393098,\n",
      "        1.37105105, -0.41897163, -0.99448067,  0.0061347 , -0.73475107,\n",
      "        0.13564644, -0.24821966,  0.77254019,  0.5340008 ]), 'eval_time': 172.25425267219543, 'eval_count': 100, 'training_loss': 0.5277471856189987, 'testing_accuracy': 0.75, 'test_success_ratio': 0.75, 'testing_loss': 0.5902862291956963}\n"
     ]
    }
   ],
   "source": [
    "feature_dim = 5\n",
    "\n",
    "#feature_map = ZZFeatureMap(feature_dimension=feature_dim, reps=2, entanglement='full')\n",
    "#feature_map = PauliFeatureMap(feature_dimension=feature_dim, reps=2, paulis=['ZZ'])\n",
    "feature_map = RawFeatureVector(feature_dimension=feature_dim)\n",
    "\n",
    "vqc = VQC(COBYLA(maxiter=100),\n",
    "          feature_map,\n",
    "          TwoLocal(feature_map.num_qubits, ['ry', 'rz'], 'cz', reps=3),\n",
    "          training_dataset = training_data,\n",
    "          test_dataset = testing_data)\n",
    "\n",
    "result = vqc.run(QuantumInstance(BasicAer.get_backend('statevector_simulator'),\n",
    "                                 shots=1024, seed_simulator=seed, seed_transpiler=seed))\n",
    "\n",
    "print('Testing accuracy: {:0.2f}'.format(result['testing_accuracy']))\n",
    "print(result)"
   ]
  },
  {
   "cell_type": "markdown",
   "id": "726fbab1-5cfd-4fb6-8bdc-1b601780340b",
   "metadata": {},
   "source": [
    "VQC performed better than QSVM"
   ]
  },
  {
   "cell_type": "code",
   "execution_count": null,
   "id": "24129f2b-90a4-4e7e-b6d4-b60809601ea7",
   "metadata": {},
   "outputs": [],
   "source": []
  }
 ],
 "metadata": {
  "kernelspec": {
   "display_name": "Qiskit v0.35.0 (ipykernel)",
   "language": "python",
   "name": "python3"
  },
  "language_info": {
   "codemirror_mode": {
    "name": "ipython",
    "version": 3
   },
   "file_extension": ".py",
   "mimetype": "text/x-python",
   "name": "python",
   "nbconvert_exporter": "python",
   "pygments_lexer": "ipython3",
   "version": "3.8.13"
  },
  "widgets": {
   "application/vnd.jupyter.widget-state+json": {
    "state": {},
    "version_major": 2,
    "version_minor": 0
   }
  }
 },
 "nbformat": 4,
 "nbformat_minor": 5
}
