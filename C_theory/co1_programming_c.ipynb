{
 "cells": [
  {
   "cell_type": "code",
   "execution_count": 1,
   "id": "529d3643-6f1e-4e71-94f3-45313aa64cf2",
   "metadata": {},
   "outputs": [
    {
     "name": "stderr",
     "output_type": "stream",
     "text": [
      "<frozen importlib._bootstrap>:219: RuntimeWarning: scipy._lib.messagestream.MessageStream size changed, may indicate binary incompatibility. Expected 56 from C header, got 64 from PyObject\n",
      "/tmp/ipykernel_9606/3458627689.py:13: DeprecationWarning: The variable qiskit.aqua.aqua_globals is deprecated. It was moved/refactored to qiskit.utils.algorithm_globals (pip install qiskit-terra). For more information see <https://github.com/Qiskit/qiskit-aqua/blob/main/README.md#migration-guide>\n",
      "  aqua_globals.random_seed = seed\n"
     ]
    }
   ],
   "source": [
    "import pandas as pd\n",
    "import matplotlib.pyplot as plt\n",
    "import numpy as np\n",
    "from sklearn.preprocessing import MinMaxScaler\n",
    "\n",
    "from qiskit import BasicAer\n",
    "from qiskit.circuit.library import ZZFeatureMap, PauliFeatureMap\n",
    "from qiskit.aqua import QuantumInstance, aqua_globals\n",
    "from qiskit.aqua.algorithms import QSVM\n",
    "from qiskit.aqua.utils import split_dataset_to_data_and_labels, map_label_to_class_name\n",
    "\n",
    "seed = 10599\n",
    "aqua_globals.random_seed = seed\n",
    "import warnings\n",
    "warnings.filterwarnings('ignore')"
   ]
  },
  {
   "cell_type": "code",
   "execution_count": 2,
   "id": "b3cfd6f7-022c-4a99-9a65-123c40221e6e",
   "metadata": {},
   "outputs": [],
   "source": [
    "from qiskit.aqua.components.optimizers import COBYLA\n",
    "from qiskit.aqua.components.feature_maps import RawFeatureVector\n",
    "from qiskit.circuit.library import TwoLocal\n",
    "import functools"
   ]
  },
  {
   "cell_type": "code",
   "execution_count": 3,
   "id": "e04a1764-9ba5-4580-b3bd-420a755fe099",
   "metadata": {},
   "outputs": [
    {
     "data": {
      "text/html": [
       "<div>\n",
       "<style scoped>\n",
       "    .dataframe tbody tr th:only-of-type {\n",
       "        vertical-align: middle;\n",
       "    }\n",
       "\n",
       "    .dataframe tbody tr th {\n",
       "        vertical-align: top;\n",
       "    }\n",
       "\n",
       "    .dataframe thead th {\n",
       "        text-align: right;\n",
       "    }\n",
       "</style>\n",
       "<table border=\"1\" class=\"dataframe\">\n",
       "  <thead>\n",
       "    <tr style=\"text-align: right;\">\n",
       "      <th></th>\n",
       "      <th>S.NO</th>\n",
       "      <th>REGISTER NO.</th>\n",
       "      <th>NAMES</th>\n",
       "      <th>MS 1 20%</th>\n",
       "      <th>MS 2 40%</th>\n",
       "      <th>Attendance %</th>\n",
       "      <th>SEM RESULT 34%</th>\n",
       "      <th>TOTAL 194%</th>\n",
       "      <th>OBTAINED FOR 100</th>\n",
       "      <th>Threshold 60%</th>\n",
       "    </tr>\n",
       "  </thead>\n",
       "  <tbody>\n",
       "    <tr>\n",
       "      <th>0</th>\n",
       "      <td>1</td>\n",
       "      <td>15 51 001</td>\n",
       "      <td>AARTHI.P.</td>\n",
       "      <td>13.6</td>\n",
       "      <td>36.8</td>\n",
       "      <td>93</td>\n",
       "      <td>30.6</td>\n",
       "      <td>121.0</td>\n",
       "      <td>62.371134</td>\n",
       "      <td>Y</td>\n",
       "    </tr>\n",
       "    <tr>\n",
       "      <th>1</th>\n",
       "      <td>2</td>\n",
       "      <td>15 51 002</td>\n",
       "      <td>ABDUL KHADI.K.</td>\n",
       "      <td>7.2</td>\n",
       "      <td>7.2</td>\n",
       "      <td>93</td>\n",
       "      <td>8.5</td>\n",
       "      <td>62.9</td>\n",
       "      <td>32.422680</td>\n",
       "      <td>N</td>\n",
       "    </tr>\n",
       "    <tr>\n",
       "      <th>2</th>\n",
       "      <td>3</td>\n",
       "      <td>15 51 003</td>\n",
       "      <td>ABINAYA.N.</td>\n",
       "      <td>15.6</td>\n",
       "      <td>32.0</td>\n",
       "      <td>97</td>\n",
       "      <td>30.6</td>\n",
       "      <td>118.2</td>\n",
       "      <td>60.927835</td>\n",
       "      <td>Y</td>\n",
       "    </tr>\n",
       "    <tr>\n",
       "      <th>3</th>\n",
       "      <td>4</td>\n",
       "      <td>15 51 004</td>\n",
       "      <td>AKALYA.M.</td>\n",
       "      <td>10.0</td>\n",
       "      <td>8.8</td>\n",
       "      <td>93</td>\n",
       "      <td>20.4</td>\n",
       "      <td>79.2</td>\n",
       "      <td>40.824742</td>\n",
       "      <td>N</td>\n",
       "    </tr>\n",
       "    <tr>\n",
       "      <th>4</th>\n",
       "      <td>5</td>\n",
       "      <td>15 51 005</td>\n",
       "      <td>ARCHANADEVI@KAMATCHI R.</td>\n",
       "      <td>14.4</td>\n",
       "      <td>30.4</td>\n",
       "      <td>93</td>\n",
       "      <td>27.2</td>\n",
       "      <td>112.0</td>\n",
       "      <td>57.731959</td>\n",
       "      <td>N</td>\n",
       "    </tr>\n",
       "  </tbody>\n",
       "</table>\n",
       "</div>"
      ],
      "text/plain": [
       "   S.NO REGISTER NO.                    NAMES  MS 1 20%  MS 2 40%  \\\n",
       "0     1    15 51 001                AARTHI.P.      13.6      36.8   \n",
       "1     2    15 51 002           ABDUL KHADI.K.       7.2       7.2   \n",
       "2     3    15 51 003               ABINAYA.N.      15.6      32.0   \n",
       "3     4    15 51 004                AKALYA.M.      10.0       8.8   \n",
       "4     5    15 51 005  ARCHANADEVI@KAMATCHI R.      14.4      30.4   \n",
       "\n",
       "   Attendance %  SEM RESULT 34%  TOTAL 194%  OBTAINED FOR 100 Threshold 60%  \n",
       "0            93            30.6       121.0         62.371134             Y  \n",
       "1            93             8.5        62.9         32.422680             N  \n",
       "2            97            30.6       118.2         60.927835             Y  \n",
       "3            93            20.4        79.2         40.824742             N  \n",
       "4            93            27.2       112.0         57.731959             N  "
      ]
     },
     "execution_count": 3,
     "metadata": {},
     "output_type": "execute_result"
    }
   ],
   "source": [
    "c_dataset = pd.read_excel('co1_programming_c.xlsx', engine='openpyxl')\n",
    "\n",
    "c_dataset.head()"
   ]
  },
  {
   "cell_type": "code",
   "execution_count": 21,
   "id": "2a7c1c09-e2bf-4b24-a647-1b6f4b808731",
   "metadata": {},
   "outputs": [
    {
     "data": {
      "text/html": [
       "<div>\n",
       "<style scoped>\n",
       "    .dataframe tbody tr th:only-of-type {\n",
       "        vertical-align: middle;\n",
       "    }\n",
       "\n",
       "    .dataframe tbody tr th {\n",
       "        vertical-align: top;\n",
       "    }\n",
       "\n",
       "    .dataframe thead th {\n",
       "        text-align: right;\n",
       "    }\n",
       "</style>\n",
       "<table border=\"1\" class=\"dataframe\">\n",
       "  <thead>\n",
       "    <tr style=\"text-align: right;\">\n",
       "      <th></th>\n",
       "      <th>MS 1 20%</th>\n",
       "      <th>MS 2 40%</th>\n",
       "      <th>Attendance %</th>\n",
       "      <th>SEM RESULT 34%</th>\n",
       "      <th>TOTAL 194%</th>\n",
       "      <th>OBTAINED FOR 100</th>\n",
       "      <th>Threshold 60%</th>\n",
       "    </tr>\n",
       "  </thead>\n",
       "  <tbody>\n",
       "    <tr>\n",
       "      <th>0</th>\n",
       "      <td>13.6</td>\n",
       "      <td>36.8</td>\n",
       "      <td>93</td>\n",
       "      <td>30.6</td>\n",
       "      <td>121.0</td>\n",
       "      <td>62.371134</td>\n",
       "      <td>1</td>\n",
       "    </tr>\n",
       "    <tr>\n",
       "      <th>1</th>\n",
       "      <td>7.2</td>\n",
       "      <td>7.2</td>\n",
       "      <td>93</td>\n",
       "      <td>8.5</td>\n",
       "      <td>62.9</td>\n",
       "      <td>32.422680</td>\n",
       "      <td>0</td>\n",
       "    </tr>\n",
       "    <tr>\n",
       "      <th>2</th>\n",
       "      <td>15.6</td>\n",
       "      <td>32.0</td>\n",
       "      <td>97</td>\n",
       "      <td>30.6</td>\n",
       "      <td>118.2</td>\n",
       "      <td>60.927835</td>\n",
       "      <td>1</td>\n",
       "    </tr>\n",
       "    <tr>\n",
       "      <th>3</th>\n",
       "      <td>10.0</td>\n",
       "      <td>8.8</td>\n",
       "      <td>93</td>\n",
       "      <td>20.4</td>\n",
       "      <td>79.2</td>\n",
       "      <td>40.824742</td>\n",
       "      <td>0</td>\n",
       "    </tr>\n",
       "    <tr>\n",
       "      <th>4</th>\n",
       "      <td>14.4</td>\n",
       "      <td>30.4</td>\n",
       "      <td>93</td>\n",
       "      <td>27.2</td>\n",
       "      <td>112.0</td>\n",
       "      <td>57.731959</td>\n",
       "      <td>0</td>\n",
       "    </tr>\n",
       "  </tbody>\n",
       "</table>\n",
       "</div>"
      ],
      "text/plain": [
       "   MS 1 20%  MS 2 40%  Attendance %  SEM RESULT 34%  TOTAL 194%  \\\n",
       "0      13.6      36.8            93            30.6       121.0   \n",
       "1       7.2       7.2            93             8.5        62.9   \n",
       "2      15.6      32.0            97            30.6       118.2   \n",
       "3      10.0       8.8            93            20.4        79.2   \n",
       "4      14.4      30.4            93            27.2       112.0   \n",
       "\n",
       "   OBTAINED FOR 100  Threshold 60%  \n",
       "0         62.371134              1  \n",
       "1         32.422680              0  \n",
       "2         60.927835              1  \n",
       "3         40.824742              0  \n",
       "4         57.731959              0  "
      ]
     },
     "execution_count": 21,
     "metadata": {},
     "output_type": "execute_result"
    }
   ],
   "source": [
    "df = c_dataset.copy()\n",
    "df['Threshold 60%'].replace(to_replace=['Y', 'N'], value=[1, 0], inplace=True)\n",
    "df.drop(['S.NO', 'REGISTER NO.','NAMES'], axis=1,inplace = True)\n",
    "df.head()"
   ]
  },
  {
   "cell_type": "code",
   "execution_count": 5,
   "id": "fc84e748-1d8c-4fbb-ae04-fef4a6130ffb",
   "metadata": {},
   "outputs": [
    {
     "data": {
      "text/plain": [
       "<AxesSubplot:>"
      ]
     },
     "execution_count": 5,
     "metadata": {},
     "output_type": "execute_result"
    },
    {
     "data": {
      "image/png": "[encoded data removed]",
      "text/plain": [
       "<Figure size 432x288 with 2 Axes>"
      ]
     },
     "metadata": {
      "needs_background": "light"
     },
     "output_type": "display_data"
    }
   ],
   "source": [
    "import seaborn as sns\n",
    "corr = df.corr()\n",
    "sns.heatmap(corr, annot=True)"
   ]
  },
  {
   "cell_type": "code",
   "execution_count": 22,
   "id": "f4b67a34-7096-412f-987a-f557529514d3",
   "metadata": {},
   "outputs": [
    {
     "data": {
      "text/plain": [
       "Index(['MS 2 40%', 'SEM RESULT 34%', 'TOTAL 194%', 'OBTAINED FOR 100',\n",
       "       'Threshold 60%'],\n",
       "      dtype='object')"
      ]
     },
     "execution_count": 22,
     "metadata": {},
     "output_type": "execute_result"
    }
   ],
   "source": [
    "df.drop(['MS 1 20%','Attendance %'], axis = 1, inplace = True)\n",
    "df.columns"
   ]
  },
  {
   "cell_type": "code",
   "execution_count": 23,
   "id": "6bbae519-34b7-486f-94da-d6a030993991",
   "metadata": {},
   "outputs": [],
   "source": [
    "vals = df[df.columns[:-1]].values"
   ]
  },
  {
   "cell_type": "markdown",
   "id": "0d00f9b9-0781-40bb-a04b-c5bc6cc7405d",
   "metadata": {},
   "source": [
    "# QSVM"
   ]
  },
  {
   "cell_type": "code",
   "execution_count": 8,
   "id": "d7932b16-e337-490d-8d21-39ced65152f8",
   "metadata": {},
   "outputs": [],
   "source": [
    "def custom_data_map_func(x):\n",
    "    \"\"\"Define a function map from R^n to R.\n",
    "    \n",
    "    Args:\n",
    "        x (np.ndarray): data\n",
    "    Returns:\n",
    "        double: the mapped value\n",
    "    \"\"\"\n",
    "    coeff = x[0] if len(x) == 1 else functools.reduce(lambda m, n: m * n, np.pi - x)\n",
    "    return coeff"
   ]
  },
  {
   "cell_type": "code",
   "execution_count": 24,
   "id": "2c4a3098-57da-4577-9d6b-67af8d0b858e",
   "metadata": {},
   "outputs": [],
   "source": [
    "train_input = vals[:25]\n",
    "test_input = vals[25:]\n",
    "\n",
    "training_data = {1:[],0:[]} # 1 == 'A' and 0 == 'B'\n",
    "for i in range(len(train_input)):\n",
    "    if df['Threshold 60%'][i] == 1:\n",
    "        training_data[1].append(train_input[i].tolist())\n",
    "    else:\n",
    "        training_data[0].append(train_input[i].tolist())\n",
    "        \n",
    "testing_data = {1:[],0:[]} # 1 == 'A' and 0 == 'B'\n",
    "for i in range(len(test_input)):\n",
    "    if df['Threshold 60%'][i] == 1:\n",
    "        testing_data[1].append(test_input[i].tolist())\n",
    "    else:\n",
    "        testing_data[0].append(test_input[i].tolist())"
   ]
  },
  {
   "cell_type": "code",
   "execution_count": 10,
   "id": "7e824eaf-af2c-44fa-99ce-702c53284332",
   "metadata": {},
   "outputs": [],
   "source": [
    "def qsvm_testing_accuracy(training_data, testing_data, feature_dim, reps, entanglement):\n",
    "    feature_map = ZZFeatureMap(feature_dimension=feature_dim, reps=reps, entanglement=entanglement,  data_map_func=custom_data_map_func)\n",
    "    \n",
    "    qsvm = QSVM(feature_map, training_data, testing_data)\n",
    "\n",
    "    backend = BasicAer.get_backend('qasm_simulator')\n",
    "    quantum_instance = QuantumInstance(backend, shots=1024, seed_simulator=seed, seed_transpiler=seed)\n",
    "    result = qsvm.run(quantum_instance)\n",
    "    print('Testing Accuracy for reps={} and entanglement={}: '.format(reps, entanglement), result['testing_accuracy'])\n",
    "    return"
   ]
  },
  {
   "cell_type": "code",
   "execution_count": 25,
   "id": "4bb2d377-8608-4f78-8e56-d4a96469933c",
   "metadata": {},
   "outputs": [
    {
     "name": "stdout",
     "output_type": "stream",
     "text": [
      "Testing Accuracy for reps=1 and entanglement=linear:  0.75\n",
      "Testing Accuracy for reps=1 and entanglement=circular:  0.75\n",
      "Testing Accuracy for reps=1 and entanglement=full:  0.6875\n",
      "Testing Accuracy for reps=2 and entanglement=linear:  0.75\n",
      "Testing Accuracy for reps=2 and entanglement=circular:  0.75\n",
      "Testing Accuracy for reps=2 and entanglement=full:  0.6875\n",
      "Testing Accuracy for reps=3 and entanglement=linear:  0.75\n",
      "Testing Accuracy for reps=3 and entanglement=circular:  0.75\n",
      "Testing Accuracy for reps=3 and entanglement=full:  0.75\n"
     ]
    }
   ],
   "source": [
    "lst = ['linear', 'circular', 'full']\n",
    "\n",
    "feature_dim = 4\n",
    "\n",
    "for i in range(len(lst)):\n",
    "    for j in lst:\n",
    "        qsvm_testing_accuracy(training_data, testing_data, feature_dim, i+1, j)\n"
   ]
  },
  {
   "cell_type": "code",
   "execution_count": 26,
   "id": "a3cebbc8-bfaa-42bb-9978-dff9a1cd7498",
   "metadata": {},
   "outputs": [
    {
     "data": {
      "text/plain": [
       "0.75"
      ]
     },
     "execution_count": 26,
     "metadata": {},
     "output_type": "execute_result"
    }
   ],
   "source": [
    "reps = 1\n",
    "entanglement = 'linear'\n",
    "feature_map = ZZFeatureMap(feature_dimension=feature_dim, reps=reps, entanglement=entanglement,  data_map_func=custom_data_map_func)\n",
    "    \n",
    "final_qsvm = QSVM(feature_map, training_data, testing_data)\n",
    "\n",
    "backend = BasicAer.get_backend('qasm_simulator')\n",
    "quantum_instance = QuantumInstance(backend, shots=1024, seed_simulator=seed, seed_transpiler=seed)\n",
    "result = final_qsvm.run(quantum_instance)\n",
    "result['testing_accuracy']"
   ]
  },
  {
   "cell_type": "markdown",
   "id": "d0c8fb3a-7e9a-4229-8b42-1df722df8326",
   "metadata": {},
   "source": [
    "# VQC"
   ]
  },
  {
   "cell_type": "code",
   "execution_count": 27,
   "id": "9b01c862-66b3-4908-bc92-31542cbc0102",
   "metadata": {},
   "outputs": [],
   "source": [
    "from qiskit.aqua.algorithms import VQC"
   ]
  },
  {
   "cell_type": "code",
   "execution_count": 29,
   "id": "7b6d5edb-1b55-40fb-8c84-6aaa60225b06",
   "metadata": {},
   "outputs": [
    {
     "name": "stdout",
     "output_type": "stream",
     "text": [
      "Testing accuracy: 0.75\n"
     ]
    }
   ],
   "source": [
    "feature_dim = 4\n",
    "\n",
    "#feature_map = ZZFeatureMap(feature_dimension=feature_dim, reps=2, entanglement='full')\n",
    "#feature_map = PauliFeatureMap(feature_dimension=feature_dim, reps=2, paulis=['ZZ'])\n",
    "feature_map = RawFeatureVector(feature_dimension=feature_dim)\n",
    "\n",
    "vqc = VQC(COBYLA(maxiter=100),\n",
    "          feature_map,\n",
    "          TwoLocal(feature_map.num_qubits, ['ry', 'rz'], 'cz', reps=3),\n",
    "          training_dataset = training_data,\n",
    "          test_dataset = testing_data)\n",
    "\n",
    "result = vqc.run(QuantumInstance(BasicAer.get_backend('statevector_simulator'),\n",
    "                                 shots=1024, seed_simulator=seed, seed_transpiler=seed))\n",
    "\n",
    "print('Testing accuracy: {:0.2f}'.format(result['testing_accuracy']))\n",
    "print(result)"
   ]
  },
  {
   "cell_type": "markdown",
   "id": "7d08bae3-e597-4ac4-b091-6117b4c5be1a",
   "metadata": {},
   "source": [
    "Both QSVM and VQC performed equally well."
   ]
  },
  {
   "cell_type": "code",
   "execution_count": null,
   "id": "f980b9e6-8540-42d0-8ed8-b216acdf3699",
   "metadata": {},
   "outputs": [],
   "source": []
  }
 ],
 "metadata": {
  "kernelspec": {
   "display_name": "Qiskit v0.35.0 (ipykernel)",
   "language": "python",
   "name": "python3"
  },
  "language_info": {
   "codemirror_mode": {
    "name": "ipython",
    "version": 3
   },
   "file_extension": ".py",
   "mimetype": "text/x-python",
   "name": "python",
   "nbconvert_exporter": "python",
   "pygments_lexer": "ipython3",
   "version": "3.8.13"
  },
  "widgets": {
   "application/vnd.jupyter.widget-state+json": {
    "state": {},
    "version_major": 2,
    "version_minor": 0
   }
  }
 },
 "nbformat": 4,
 "nbformat_minor": 5
}
