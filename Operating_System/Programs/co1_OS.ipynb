{
 "cells": [
  {
   "cell_type": "code",
   "execution_count": 1,
   "metadata": {},
   "outputs": [
    {
     "name": "stderr",
     "output_type": "stream",
     "text": [
      "<ipython-input-1-2b95b306fbfc>:13: DeprecationWarning: The variable qiskit.aqua.aqua_globals is deprecated. It was moved/refactored to qiskit.utils.algorithm_globals (pip install qiskit-terra). For more information see <https://github.com/Qiskit/qiskit-aqua/blob/main/README.md#migration-guide>\n",
      "  aqua_globals.random_seed = seed\n"
     ]
    }
   ],
   "source": [
    "import pandas as pd\n",
    "import matplotlib.pyplot as plt\n",
    "import numpy as np\n",
    "from sklearn.preprocessing import MinMaxScaler\n",
    "\n",
    "from qiskit import BasicAer\n",
    "from qiskit.circuit.library import ZZFeatureMap, PauliFeatureMap\n",
    "from qiskit.aqua import QuantumInstance, aqua_globals\n",
    "from qiskit.aqua.algorithms import QSVM\n",
    "from qiskit.aqua.utils import split_dataset_to_data_and_labels, map_label_to_class_name\n",
    "\n",
    "seed = 10599\n",
    "aqua_globals.random_seed = seed\n",
    "import warnings\n",
    "warnings.filterwarnings('ignore')"
   ]
  },
  {
   "cell_type": "code",
   "execution_count": 2,
   "metadata": {},
   "outputs": [],
   "source": [
    "from qiskit.aqua.components.optimizers import COBYLA\n",
    "from qiskit.aqua.components.feature_maps import RawFeatureVector\n",
    "from qiskit.circuit.library import TwoLocal\n",
    "import functools"
   ]
  },
  {
   "cell_type": "code",
   "execution_count": 5,
   "metadata": {},
   "outputs": [
    {
     "data": {
      "text/html": [
       "<div>\n",
       "<style scoped>\n",
       "    .dataframe tbody tr th:only-of-type {\n",
       "        vertical-align: middle;\n",
       "    }\n",
       "\n",
       "    .dataframe tbody tr th {\n",
       "        vertical-align: top;\n",
       "    }\n",
       "\n",
       "    .dataframe thead th {\n",
       "        text-align: right;\n",
       "    }\n",
       "</style>\n",
       "<table border=\"1\" class=\"dataframe\">\n",
       "  <thead>\n",
       "    <tr style=\"text-align: right;\">\n",
       "      <th></th>\n",
       "      <th>NAMES</th>\n",
       "      <th>MS 1 52%</th>\n",
       "      <th>MS 2 0%</th>\n",
       "      <th>MS 3 0%</th>\n",
       "      <th>ASSIGNMENT 40%</th>\n",
       "      <th>SEM RESULT 22%</th>\n",
       "      <th>TOTAL 114%</th>\n",
       "      <th>OBTAINED FOR 100</th>\n",
       "      <th>Threshold 60%</th>\n",
       "    </tr>\n",
       "  </thead>\n",
       "  <tbody>\n",
       "    <tr>\n",
       "      <th>0</th>\n",
       "      <td>AARTHI.P.</td>\n",
       "      <td>41.60</td>\n",
       "      <td>0</td>\n",
       "      <td>0</td>\n",
       "      <td>40.0</td>\n",
       "      <td>22.0</td>\n",
       "      <td>103.60</td>\n",
       "      <td>90.877193</td>\n",
       "      <td>Y</td>\n",
       "    </tr>\n",
       "    <tr>\n",
       "      <th>1</th>\n",
       "      <td>ABDUL KHADI.K.</td>\n",
       "      <td>14.56</td>\n",
       "      <td>0</td>\n",
       "      <td>0</td>\n",
       "      <td>40.0</td>\n",
       "      <td>15.4</td>\n",
       "      <td>69.96</td>\n",
       "      <td>61.368421</td>\n",
       "      <td>Y</td>\n",
       "    </tr>\n",
       "    <tr>\n",
       "      <th>2</th>\n",
       "      <td>ABINAYA.N.</td>\n",
       "      <td>39.52</td>\n",
       "      <td>0</td>\n",
       "      <td>0</td>\n",
       "      <td>40.0</td>\n",
       "      <td>19.8</td>\n",
       "      <td>99.32</td>\n",
       "      <td>87.122807</td>\n",
       "      <td>Y</td>\n",
       "    </tr>\n",
       "    <tr>\n",
       "      <th>3</th>\n",
       "      <td>AKALYA.M.</td>\n",
       "      <td>20.80</td>\n",
       "      <td>0</td>\n",
       "      <td>0</td>\n",
       "      <td>40.0</td>\n",
       "      <td>17.6</td>\n",
       "      <td>78.40</td>\n",
       "      <td>68.771930</td>\n",
       "      <td>Y</td>\n",
       "    </tr>\n",
       "    <tr>\n",
       "      <th>4</th>\n",
       "      <td>ARCHANADEVI@KAMATCHI R.</td>\n",
       "      <td>33.28</td>\n",
       "      <td>0</td>\n",
       "      <td>0</td>\n",
       "      <td>40.0</td>\n",
       "      <td>17.6</td>\n",
       "      <td>90.88</td>\n",
       "      <td>79.719298</td>\n",
       "      <td>Y</td>\n",
       "    </tr>\n",
       "  </tbody>\n",
       "</table>\n",
       "</div>"
      ],
      "text/plain": [
       "                     NAMES  MS 1 52%  MS 2 0%  MS 3 0%  ASSIGNMENT 40%  \\\n",
       "0                AARTHI.P.     41.60        0        0            40.0   \n",
       "1           ABDUL KHADI.K.     14.56        0        0            40.0   \n",
       "2               ABINAYA.N.     39.52        0        0            40.0   \n",
       "3                AKALYA.M.     20.80        0        0            40.0   \n",
       "4  ARCHANADEVI@KAMATCHI R.     33.28        0        0            40.0   \n",
       "\n",
       "   SEM RESULT 22%  TOTAL 114%  OBTAINED FOR 100 Threshold 60%  \n",
       "0            22.0      103.60         90.877193             Y  \n",
       "1            15.4       69.96         61.368421             Y  \n",
       "2            19.8       99.32         87.122807             Y  \n",
       "3            17.6       78.40         68.771930             Y  \n",
       "4            17.6       90.88         79.719298             Y  "
      ]
     },
     "execution_count": 5,
     "metadata": {},
     "output_type": "execute_result"
    }
   ],
   "source": [
    "os_dataset = pd.read_excel('co1_attainment_OS.xlsx', engine='openpyxl')\n",
    "\n",
    "os_dataset.head()"
   ]
  },
  {
   "cell_type": "code",
   "execution_count": 8,
   "metadata": {},
   "outputs": [
    {
     "data": {
      "text/html": [
       "<div>\n",
       "<style scoped>\n",
       "    .dataframe tbody tr th:only-of-type {\n",
       "        vertical-align: middle;\n",
       "    }\n",
       "\n",
       "    .dataframe tbody tr th {\n",
       "        vertical-align: top;\n",
       "    }\n",
       "\n",
       "    .dataframe thead th {\n",
       "        text-align: right;\n",
       "    }\n",
       "</style>\n",
       "<table border=\"1\" class=\"dataframe\">\n",
       "  <thead>\n",
       "    <tr style=\"text-align: right;\">\n",
       "      <th></th>\n",
       "      <th>MS 1 52%</th>\n",
       "      <th>ASSIGNMENT 40%</th>\n",
       "      <th>SEM RESULT 22%</th>\n",
       "      <th>TOTAL 114%</th>\n",
       "      <th>OBTAINED FOR 100</th>\n",
       "      <th>Threshold 60%</th>\n",
       "    </tr>\n",
       "  </thead>\n",
       "  <tbody>\n",
       "    <tr>\n",
       "      <th>0</th>\n",
       "      <td>41.60</td>\n",
       "      <td>40.0</td>\n",
       "      <td>22.0</td>\n",
       "      <td>103.60</td>\n",
       "      <td>90.877193</td>\n",
       "      <td>1</td>\n",
       "    </tr>\n",
       "    <tr>\n",
       "      <th>1</th>\n",
       "      <td>14.56</td>\n",
       "      <td>40.0</td>\n",
       "      <td>15.4</td>\n",
       "      <td>69.96</td>\n",
       "      <td>61.368421</td>\n",
       "      <td>1</td>\n",
       "    </tr>\n",
       "    <tr>\n",
       "      <th>2</th>\n",
       "      <td>39.52</td>\n",
       "      <td>40.0</td>\n",
       "      <td>19.8</td>\n",
       "      <td>99.32</td>\n",
       "      <td>87.122807</td>\n",
       "      <td>1</td>\n",
       "    </tr>\n",
       "    <tr>\n",
       "      <th>3</th>\n",
       "      <td>20.80</td>\n",
       "      <td>40.0</td>\n",
       "      <td>17.6</td>\n",
       "      <td>78.40</td>\n",
       "      <td>68.771930</td>\n",
       "      <td>1</td>\n",
       "    </tr>\n",
       "    <tr>\n",
       "      <th>4</th>\n",
       "      <td>33.28</td>\n",
       "      <td>40.0</td>\n",
       "      <td>17.6</td>\n",
       "      <td>90.88</td>\n",
       "      <td>79.719298</td>\n",
       "      <td>1</td>\n",
       "    </tr>\n",
       "  </tbody>\n",
       "</table>\n",
       "</div>"
      ],
      "text/plain": [
       "   MS 1 52%  ASSIGNMENT 40%  SEM RESULT 22%  TOTAL 114%  OBTAINED FOR 100  \\\n",
       "0     41.60            40.0            22.0      103.60         90.877193   \n",
       "1     14.56            40.0            15.4       69.96         61.368421   \n",
       "2     39.52            40.0            19.8       99.32         87.122807   \n",
       "3     20.80            40.0            17.6       78.40         68.771930   \n",
       "4     33.28            40.0            17.6       90.88         79.719298   \n",
       "\n",
       "   Threshold 60%  \n",
       "0              1  \n",
       "1              1  \n",
       "2              1  \n",
       "3              1  \n",
       "4              1  "
      ]
     },
     "execution_count": 8,
     "metadata": {},
     "output_type": "execute_result"
    }
   ],
   "source": [
    "df = os_dataset.copy()\n",
    "df.drop(['NAMES','MS 2 0%','MS 3 0%'], axis = 1, inplace = True)\n",
    "df['Threshold 60%'].replace(to_replace=['Y', 'N'], value=[1, 0], inplace=True)\n",
    "df.head()"
   ]
  },
  {
   "cell_type": "code",
   "execution_count": 9,
   "metadata": {},
   "outputs": [
    {
     "data": {
      "text/plain": [
       "<matplotlib.axes._subplots.AxesSubplot at 0x1a8232f44c0>"
      ]
     },
     "execution_count": 9,
     "metadata": {},
     "output_type": "execute_result"
    },
    {
     "data": {
      "image/png": "[encoded data removed]",
      "text/plain": [
       "<Figure size 432x288 with 2 Axes>"
      ]
     },
     "metadata": {
      "needs_background": "light"
     },
     "output_type": "display_data"
    }
   ],
   "source": [
    "import seaborn as sns\n",
    "corr = df.corr()\n",
    "sns.heatmap(corr, annot=True)"
   ]
  },
  {
   "cell_type": "code",
   "execution_count": 10,
   "metadata": {},
   "outputs": [
    {
     "data": {
      "text/plain": [
       "<matplotlib.axes._subplots.AxesSubplot at 0x1a82345a340>"
      ]
     },
     "execution_count": 10,
     "metadata": {},
     "output_type": "execute_result"
    },
    {
     "data": {
      "image/png": "[encoded data removed]",
      "text/plain": [
       "<Figure size 432x288 with 1 Axes>"
      ]
     },
     "metadata": {
      "needs_background": "light"
     },
     "output_type": "display_data"
    }
   ],
   "source": [
    "sns.countplot(df['Threshold 60%'])"
   ]
  },
  {
   "cell_type": "markdown",
   "metadata": {},
   "source": [
    "## Classical ML model"
   ]
  },
  {
   "cell_type": "code",
   "execution_count": 11,
   "metadata": {},
   "outputs": [],
   "source": [
    "X = df.iloc[:,range(5)].values\n",
    "y = df.iloc[:,5].values\n",
    "from sklearn.model_selection import train_test_split\n",
    "X_train, X_test, y_train, y_test = train_test_split(X, y, test_size = 0.4, random_state = 0)"
   ]
  },
  {
   "cell_type": "code",
   "execution_count": 15,
   "metadata": {},
   "outputs": [
    {
     "name": "stdout",
     "output_type": "stream",
     "text": [
      "score on test: 1.0\n",
      "score on train: 1.0\n"
     ]
    }
   ],
   "source": [
    "from sklearn.linear_model import LogisticRegression\n",
    "lr_classifier = LogisticRegression()\n",
    "lr_classifier.fit(X_train, y_train)\n",
    "print(\"score on test: \" + str(lr_classifier.score(X_test, y_test)))\n",
    "print(\"score on train: \"+ str(lr_classifier.score(X_train, y_train)))"
   ]
  },
  {
   "cell_type": "code",
   "execution_count": 14,
   "metadata": {},
   "outputs": [
    {
     "name": "stdout",
     "output_type": "stream",
     "text": [
      "score on test: 1.0\n",
      "score on train: 0.9583333333333334\n"
     ]
    }
   ],
   "source": [
    "from sklearn.naive_bayes import GaussianNB\n",
    "mnb_classifier = GaussianNB().fit(X_train, y_train)\n",
    "mnb_classifier.fit(X_train, y_train)\n",
    "print(\"score on test: \" + str(mnb_classifier.score(X_test, y_test)))\n",
    "print(\"score on train: \"+ str(mnb_classifier.score(X_train, y_train)))"
   ]
  },
  {
   "cell_type": "markdown",
   "metadata": {},
   "source": [
    "## QSVM"
   ]
  },
  {
   "cell_type": "code",
   "execution_count": 16,
   "metadata": {},
   "outputs": [],
   "source": [
    "vals = df[df.columns[:-1]].values"
   ]
  },
  {
   "cell_type": "code",
   "execution_count": 17,
   "metadata": {},
   "outputs": [],
   "source": [
    "def custom_data_map_func(x):\n",
    "    \"\"\"Define a function map from R^n to R.\n",
    "    \n",
    "    Args:\n",
    "        x (np.ndarray): data\n",
    "    Returns:\n",
    "        double: the mapped value\n",
    "    \"\"\"\n",
    "    coeff = x[0] if len(x) == 1 else functools.reduce(lambda m, n: m * n, np.pi - x)\n",
    "    return coeff"
   ]
  },
  {
   "cell_type": "code",
   "execution_count": 18,
   "metadata": {},
   "outputs": [],
   "source": [
    "train_input = vals[:25]\n",
    "test_input = vals[25:]\n",
    "\n",
    "training_data = {1:[],0:[]} # 1 == 'A' and 0 == 'B'\n",
    "for i in range(len(train_input)):\n",
    "    if df['Threshold 60%'][i] == 1:\n",
    "        training_data[1].append(train_input[i].tolist())\n",
    "    else:\n",
    "        training_data[0].append(train_input[i].tolist())\n",
    "        \n",
    "testing_data = {1:[],0:[]} # 1 == 'A' and 0 == 'B'\n",
    "for i in range(len(test_input)):\n",
    "    if df['Threshold 60%'][i] == 1:\n",
    "        testing_data[1].append(test_input[i].tolist())\n",
    "    else:\n",
    "        testing_data[0].append(test_input[i].tolist())"
   ]
  },
  {
   "cell_type": "code",
   "execution_count": 19,
   "metadata": {},
   "outputs": [],
   "source": [
    "def qsvm_testing_accuracy(training_data, testing_data, feature_dim, reps, entanglement):\n",
    "    feature_map = ZZFeatureMap(feature_dimension=feature_dim, reps=reps, entanglement=entanglement,  data_map_func=custom_data_map_func)\n",
    "    \n",
    "    qsvm = QSVM(feature_map, training_data, testing_data)\n",
    "\n",
    "    backend = BasicAer.get_backend('qasm_simulator')\n",
    "    quantum_instance = QuantumInstance(backend, shots=1024, seed_simulator=seed, seed_transpiler=seed)\n",
    "    result = qsvm.run(quantum_instance)\n",
    "    print('Testing Accuracy for reps={} and entanglement={}: '.format(reps, entanglement), result['testing_accuracy'])\n",
    "    return"
   ]
  },
  {
   "cell_type": "code",
   "execution_count": 21,
   "metadata": {},
   "outputs": [
    {
     "name": "stdout",
     "output_type": "stream",
     "text": [
      "Testing Accuracy for reps=1 and entanglement=linear:  0.9375\n",
      "Testing Accuracy for reps=1 and entanglement=circular:  0.9375\n",
      "Testing Accuracy for reps=1 and entanglement=full:  0.9375\n",
      "Testing Accuracy for reps=2 and entanglement=linear:  0.875\n",
      "Testing Accuracy for reps=2 and entanglement=circular:  0.9375\n",
      "Testing Accuracy for reps=2 and entanglement=full:  0.9375\n",
      "Testing Accuracy for reps=3 and entanglement=linear:  0.9375\n",
      "Testing Accuracy for reps=3 and entanglement=circular:  0.9375\n",
      "Testing Accuracy for reps=3 and entanglement=full:  0.9375\n"
     ]
    }
   ],
   "source": [
    "lst = ['linear', 'circular', 'full']\n",
    "\n",
    "feature_dim = 5\n",
    "\n",
    "for i in range(len(lst)):\n",
    "    for j in lst:\n",
    "        qsvm_testing_accuracy(training_data, testing_data, feature_dim, i+1, j)\n"
   ]
  },
  {
   "cell_type": "code",
   "execution_count": 22,
   "metadata": {},
   "outputs": [
    {
     "data": {
      "text/plain": [
       "0.9375"
      ]
     },
     "execution_count": 22,
     "metadata": {},
     "output_type": "execute_result"
    }
   ],
   "source": [
    "reps = 1\n",
    "entanglement = 'linear'\n",
    "feature_map = ZZFeatureMap(feature_dimension=feature_dim, reps=reps, entanglement=entanglement,  data_map_func=custom_data_map_func)\n",
    "    \n",
    "final_qsvm = QSVM(feature_map, training_data, testing_data)\n",
    "\n",
    "backend = BasicAer.get_backend('qasm_simulator')\n",
    "quantum_instance = QuantumInstance(backend, shots=1024, seed_simulator=seed, seed_transpiler=seed)\n",
    "result = final_qsvm.run(quantum_instance)\n",
    "result['testing_accuracy']"
   ]
  },
  {
   "cell_type": "markdown",
   "metadata": {},
   "source": [
    "## VQC"
   ]
  },
  {
   "cell_type": "code",
   "execution_count": 23,
   "metadata": {},
   "outputs": [],
   "source": [
    "from qiskit.aqua.algorithms import VQC"
   ]
  },
  {
   "cell_type": "code",
   "execution_count": 25,
   "metadata": {},
   "outputs": [
    {
     "name": "stdout",
     "output_type": "stream",
     "text": [
      "Testing accuracy: 0.94\n",
      "{'num_optimizer_evals': 100, 'min_val': 0.3019760941357888, 'opt_params': array([ 0.3070754 , -2.79652246,  0.83834916, -0.607384  ,  1.07220706,\n",
      "        0.53382782,  1.23363164,  0.61143112,  0.82422264,  1.45996048,\n",
      "       -0.85186916, -0.64740347,  0.89131321,  0.12754001,  0.24443571,\n",
      "       -0.46246378, -1.95947024, -1.26957252, -0.02244251,  0.83299872,\n",
      "       -1.37421566, -0.09357117,  1.52229812, -1.08463754]), 'eval_time': 475.6486966609955, 'eval_count': 100, 'training_loss': 0.3019760941357888, 'testing_accuracy': 0.9375, 'test_success_ratio': 0.9375, 'testing_loss': 0.24361292536733897}\n"
     ]
    }
   ],
   "source": [
    "feature_dim = 5\n",
    "\n",
    "#feature_map = ZZFeatureMap(feature_dimension=feature_dim, reps=2, entanglement='full')\n",
    "#feature_map = PauliFeatureMap(feature_dimension=feature_dim, reps=2, paulis=['ZZ'])\n",
    "feature_map = RawFeatureVector(feature_dimension=feature_dim)\n",
    "\n",
    "vqc = VQC(COBYLA(maxiter=100),\n",
    "          feature_map,\n",
    "          TwoLocal(feature_map.num_qubits, ['ry', 'rz'], 'cz', reps=3),\n",
    "          training_dataset = training_data,\n",
    "          test_dataset = testing_data)\n",
    "\n",
    "result = vqc.run(QuantumInstance(BasicAer.get_backend('statevector_simulator'),\n",
    "                                 shots=1024, seed_simulator=seed, seed_transpiler=seed))\n",
    "\n",
    "print('Testing accuracy: {:0.2f}'.format(result['testing_accuracy']))\n",
    "print(result)"
   ]
  },
  {
   "cell_type": "markdown",
   "metadata": {},
   "source": [
    "Both QSVM and VQC performed equally well."
   ]
  },
  {
   "cell_type": "code",
   "execution_count": null,
   "metadata": {},
   "outputs": [],
   "source": []
  }
 ],
 "metadata": {
  "kernelspec": {
   "display_name": "Python 3",
   "language": "python",
   "name": "python3"
  },
  "language_info": {
   "codemirror_mode": {
    "name": "ipython",
    "version": 3
   },
   "file_extension": ".py",
   "mimetype": "text/x-python",
   "name": "python",
   "nbconvert_exporter": "python",
   "pygments_lexer": "ipython3",
   "version": "3.8.2"
  }
 },
 "nbformat": 4,
 "nbformat_minor": 4
}
